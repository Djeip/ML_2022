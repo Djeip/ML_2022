{
 "cells": [
  {
   "cell_type": "code",
   "execution_count": 3,
   "metadata": {
    "collapsed": true
   },
   "outputs": [],
   "source": [
    "import pandas as pd\n",
    "import numpy as np\n",
    "from itertools import product"
   ]
  },
  {
   "cell_type": "code",
   "execution_count": 2,
   "outputs": [
    {
     "data": {
      "text/plain": "  Unnamed: 0   k1  k2  k3\n0          A  180  70  10\n1          B  170  40  15\n2          C  160  55  20\n3          D  150  50  25\n4    weights    3   2   1\n5      scale  100  50  45",
      "text/html": "<div>\n<style scoped>\n    .dataframe tbody tr th:only-of-type {\n        vertical-align: middle;\n    }\n\n    .dataframe tbody tr th {\n        vertical-align: top;\n    }\n\n    .dataframe thead th {\n        text-align: right;\n    }\n</style>\n<table border=\"1\" class=\"dataframe\">\n  <thead>\n    <tr style=\"text-align: right;\">\n      <th></th>\n      <th>Unnamed: 0</th>\n      <th>k1</th>\n      <th>k2</th>\n      <th>k3</th>\n    </tr>\n  </thead>\n  <tbody>\n    <tr>\n      <th>0</th>\n      <td>A</td>\n      <td>180</td>\n      <td>70</td>\n      <td>10</td>\n    </tr>\n    <tr>\n      <th>1</th>\n      <td>B</td>\n      <td>170</td>\n      <td>40</td>\n      <td>15</td>\n    </tr>\n    <tr>\n      <th>2</th>\n      <td>C</td>\n      <td>160</td>\n      <td>55</td>\n      <td>20</td>\n    </tr>\n    <tr>\n      <th>3</th>\n      <td>D</td>\n      <td>150</td>\n      <td>50</td>\n      <td>25</td>\n    </tr>\n    <tr>\n      <th>4</th>\n      <td>weights</td>\n      <td>3</td>\n      <td>2</td>\n      <td>1</td>\n    </tr>\n    <tr>\n      <th>5</th>\n      <td>scale</td>\n      <td>100</td>\n      <td>50</td>\n      <td>45</td>\n    </tr>\n  </tbody>\n</table>\n</div>"
     },
     "execution_count": 2,
     "metadata": {},
     "output_type": "execute_result"
    }
   ],
   "source": [
    "df = pd.read_excel(r'C:\\Users\\Lenovo\\Desktop\\kt1_electre.xlsx')\n",
    "df"
   ],
   "metadata": {
    "collapsed": false,
    "pycharm": {
     "name": "#%%\n"
    }
   }
  },
  {
   "cell_type": "code",
   "execution_count": 15,
   "outputs": [],
   "source": [
    "def electre(df_, criteria_,method='C'):\n",
    "    \"\"\"\n",
    "    :param df_: input DataFrame\n",
    "    :param criteria: list of criterias where -1 belongs to min and 1 to max\n",
    "    :param method: C or d\n",
    "    \"\"\"\n",
    "    rows = df_.iloc[:,0].tolist()\n",
    "    names = rows[:-2]\n",
    "    weights = df_.iloc[rows.index('weights'),1:]\n",
    "    scales = df_.iloc[rows.index('scale'),1:]\n",
    "    \n",
    "    data_ = df_.to_numpy().copy()\n",
    "    combs = list(product(list(range(len(names))), repeat=2))\n",
    "    w = sum(weights)\n",
    "    criteria = np.array(criteria_)\n",
    "    res = np.zeros((int(np.sqrt(len(combs))), int(np.sqrt(len(combs)))))\n",
    "    if method=='C':\n",
    "        for c1, c2 in combs:\n",
    "            crit_1 =  data_[c1, 1:] * criteria\n",
    "            crit_2 =  data_[c2, 1:] * criteria\n",
    "            mask = crit_1 >= crit_2\n",
    "            res[c1, c2] = (mask @ weights)/w\n",
    "    elif method=='d':\n",
    "        for c1, c2 in combs:\n",
    "            crit_1 =  data_[c1, 1:] * criteria\n",
    "            crit_2 =  data_[c2, 1:] * criteria\n",
    "            mask = crit_1 >= crit_2\n",
    "            res[c1, c2] = np.max(((1-mask)*crit_2 - (1-mask)*crit_1)/scales)\n",
    "    else:\n",
    "        raise Exception('Choose method \"C\" or \"d\"')\n",
    "\n",
    "    return pd.DataFrame(res, index=names, columns=names)"
   ],
   "metadata": {
    "collapsed": false,
    "pycharm": {
     "name": "#%%\n"
    }
   }
  },
  {
   "cell_type": "code",
   "execution_count": 17,
   "outputs": [
    {
     "data": {
      "text/plain": "          A         B         C         D\nA  1.000000  0.166667  0.166667  0.166667\nB  0.833333  1.000000  0.500000  0.500000\nC  0.833333  0.500000  1.000000  0.166667\nD  0.833333  0.500000  0.833333  1.000000",
      "text/html": "<div>\n<style scoped>\n    .dataframe tbody tr th:only-of-type {\n        vertical-align: middle;\n    }\n\n    .dataframe tbody tr th {\n        vertical-align: top;\n    }\n\n    .dataframe thead th {\n        text-align: right;\n    }\n</style>\n<table border=\"1\" class=\"dataframe\">\n  <thead>\n    <tr style=\"text-align: right;\">\n      <th></th>\n      <th>A</th>\n      <th>B</th>\n      <th>C</th>\n      <th>D</th>\n    </tr>\n  </thead>\n  <tbody>\n    <tr>\n      <th>A</th>\n      <td>1.000000</td>\n      <td>0.166667</td>\n      <td>0.166667</td>\n      <td>0.166667</td>\n    </tr>\n    <tr>\n      <th>B</th>\n      <td>0.833333</td>\n      <td>1.000000</td>\n      <td>0.500000</td>\n      <td>0.500000</td>\n    </tr>\n    <tr>\n      <th>C</th>\n      <td>0.833333</td>\n      <td>0.500000</td>\n      <td>1.000000</td>\n      <td>0.166667</td>\n    </tr>\n    <tr>\n      <th>D</th>\n      <td>0.833333</td>\n      <td>0.500000</td>\n      <td>0.833333</td>\n      <td>1.000000</td>\n    </tr>\n  </tbody>\n</table>\n</div>"
     },
     "execution_count": 17,
     "metadata": {},
     "output_type": "execute_result"
    }
   ],
   "source": [
    "electre(df,[-1,-1,-1],method='C')"
   ],
   "metadata": {
    "collapsed": false,
    "pycharm": {
     "name": "#%%\n"
    }
   }
  },
  {
   "cell_type": "code",
   "execution_count": 18,
   "outputs": [
    {
     "data": {
      "text/plain": "          A         B         C    D\nA  0.000000  0.600000  0.300000  0.4\nB  0.111111  0.000000  0.100000  0.2\nC  0.222222  0.300000  0.000000  0.1\nD  0.333333  0.222222  0.111111  0.0",
      "text/html": "<div>\n<style scoped>\n    .dataframe tbody tr th:only-of-type {\n        vertical-align: middle;\n    }\n\n    .dataframe tbody tr th {\n        vertical-align: top;\n    }\n\n    .dataframe thead th {\n        text-align: right;\n    }\n</style>\n<table border=\"1\" class=\"dataframe\">\n  <thead>\n    <tr style=\"text-align: right;\">\n      <th></th>\n      <th>A</th>\n      <th>B</th>\n      <th>C</th>\n      <th>D</th>\n    </tr>\n  </thead>\n  <tbody>\n    <tr>\n      <th>A</th>\n      <td>0.000000</td>\n      <td>0.600000</td>\n      <td>0.300000</td>\n      <td>0.4</td>\n    </tr>\n    <tr>\n      <th>B</th>\n      <td>0.111111</td>\n      <td>0.000000</td>\n      <td>0.100000</td>\n      <td>0.2</td>\n    </tr>\n    <tr>\n      <th>C</th>\n      <td>0.222222</td>\n      <td>0.300000</td>\n      <td>0.000000</td>\n      <td>0.1</td>\n    </tr>\n    <tr>\n      <th>D</th>\n      <td>0.333333</td>\n      <td>0.222222</td>\n      <td>0.111111</td>\n      <td>0.0</td>\n    </tr>\n  </tbody>\n</table>\n</div>"
     },
     "execution_count": 18,
     "metadata": {},
     "output_type": "execute_result"
    }
   ],
   "source": [
    "electre(df,[-1,-1,-1],method='d')"
   ],
   "metadata": {
    "collapsed": false,
    "pycharm": {
     "name": "#%%\n"
    }
   }
  },
  {
   "cell_type": "code",
   "execution_count": null,
   "outputs": [],
   "source": [],
   "metadata": {
    "collapsed": false,
    "pycharm": {
     "name": "#%%\n"
    }
   }
  }
 ],
 "metadata": {
  "kernelspec": {
   "display_name": "Python 3",
   "language": "python",
   "name": "python3"
  },
  "language_info": {
   "codemirror_mode": {
    "name": "ipython",
    "version": 2
   },
   "file_extension": ".py",
   "mimetype": "text/x-python",
   "name": "python",
   "nbconvert_exporter": "python",
   "pygments_lexer": "ipython2",
   "version": "2.7.6"
  }
 },
 "nbformat": 4,
 "nbformat_minor": 0
}
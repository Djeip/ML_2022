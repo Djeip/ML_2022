{
 "cells": [
  {
   "cell_type": "code",
   "execution_count": 1,
   "outputs": [],
   "source": [
    "import numpy as np"
   ],
   "metadata": {
    "collapsed": false,
    "pycharm": {
     "name": "#%%\n"
    }
   }
  },
  {
   "cell_type": "code",
   "execution_count": 75,
   "outputs": [],
   "source": [
    "def optimal_decision(matrix_,probs=None, matrix_type='w', crit='laplace', lamda=0.5):\n",
    "    \"\"\"\n",
    "    :param matrix_: исходная матрица\n",
    "    :param probs: матрица вероятностей. При значении None решается задача в условиях неопределенности. В обратном случае - риска\n",
    "    :param matrix_type: тип матрицы, где w - выигрыши, а l - проигрыши\n",
    "    :param crit: критерий оптимальности ['laplace','wald','savage','hurwitz'] и ['expected value',mode] в случае условий\n",
    "    :param lamda: значение лямбды для критерия Гурвица.при λ=1 критерий\n",
    "    предельно оптимистичен, при λ=0 он чрезмерно пессимистичен.\n",
    "    :return: номер альтернативы\n",
    "    \"\"\"\n",
    "    matrix = matrix_.copy()\n",
    "\n",
    "    if matrix_type == 'w':\n",
    "        agg = np.argmax\n",
    "    elif matrix_type == 'l':\n",
    "        agg = np.argmin\n",
    "    else:\n",
    "        raise Exception('Неверно задан тип матрицы')\n",
    "\n",
    "    if probs is None:\n",
    "        if crit == 'laplace':\n",
    "            return agg(matrix.mean(axis=1))\n",
    "        elif crit == 'wald':\n",
    "            return agg(matrix.min(axis=1))\n",
    "        elif crit == 'savage':\n",
    "            return agg((matrix - matrix.max(axis=0)).min(axis=1))\n",
    "        elif crit == 'hurwitz':\n",
    "            return agg((lamda*matrix.max(axis=1) + (1-lamda)*matrix.min(axis=1)).argmax())\n",
    "    else :\n",
    "       if crit == 'expected value':\n",
    "            return agg((matrix * probs).sum(axis=1))\n",
    "       elif crit == 'mode':\n",
    "           ind = np.array([(i,x) for i,x in enumerate(proba.argmax(axis=1))])\n",
    "           arr = np.array([matrix[x,y] for x,y in ind])\n",
    "           return agg(arr)\n"
   ],
   "metadata": {
    "collapsed": false,
    "pycharm": {
     "name": "#%%\n"
    }
   }
  },
  {
   "cell_type": "code",
   "execution_count": null,
   "outputs": [],
   "source": [],
   "metadata": {
    "collapsed": false,
    "pycharm": {
     "name": "#%%\n"
    }
   }
  },
  {
   "cell_type": "code",
   "execution_count": 56,
   "outputs": [
    {
     "data": {
      "text/plain": "array([[ 14.,  40.,  24.,  74.,  79.,  84.,  44.,  73.,   6.,  63.],\n       [ 52.,  76.,   1.,  67.,  49.,   7.,  39.,  40.,   5.,  52.],\n       [ 45.,  91.,  58.,  42.,  91.,   5.,  44.,  55.,  14.,  96.],\n       [ 10.,  45.,  66.,  80.,  48.,  51.,  82.,   8.,  30.,  52.],\n       [  6.,  58.,  90.,  16.,  38.,  38.,  16.,  97.,  87.,  42.],\n       [ 48.,  53.,   6.,  73., 100.,  57.,  37.,  60.,   6.,  83.],\n       [ 13.,  12.,  19.,  31.,  40.,  17.,  23.,  21.,   5.,  80.],\n       [ 98.,  37.,   2.,  45.,  31.,  71.,  28.,  31.,  81.,  40.],\n       [ 46.,  45.,  50.,  37.,  48.,  25.,  36.,  75.,  54.,  63.],\n       [ 19.,  37.,  12.,  58.,  73.,  73.,  27.,  55.,  40.,  85.]])"
     },
     "execution_count": 56,
     "metadata": {},
     "output_type": "execute_result"
    }
   ],
   "source": [
    "mat = (np.random.rand(10,10)*100).round()\n",
    "mat"
   ],
   "metadata": {
    "collapsed": false,
    "pycharm": {
     "name": "#%%\n"
    }
   }
  },
  {
   "cell_type": "code",
   "execution_count": 86,
   "outputs": [
    {
     "data": {
      "text/plain": "array([[0.11780156, 0.06052856, 0.03176859, 0.10859414, 0.09303766,\n        0.127353  , 0.09812167, 0.07577015, 0.10695476, 0.1800699 ],\n       [0.09419683, 0.1753446 , 0.00218683, 0.13825879, 0.07196655,\n        0.03411538, 0.22898437, 0.07085331, 0.15919169, 0.02490165],\n       [0.1403343 , 0.15308106, 0.04592791, 0.11655886, 0.09890223,\n        0.08940374, 0.00283062, 0.07649838, 0.1517419 , 0.124721  ],\n       [0.05202599, 0.10384895, 0.04864651, 0.1332949 , 0.15578471,\n        0.08435845, 0.07161514, 0.12108017, 0.12833328, 0.10101189],\n       [0.16632185, 0.01090192, 0.15111139, 0.14157008, 0.08649832,\n        0.14203677, 0.11325534, 0.0050445 , 0.02722174, 0.15603809],\n       [0.1931433 , 0.07968587, 0.14614952, 0.10712535, 0.02034723,\n        0.05675459, 0.09889896, 0.08491147, 0.17239455, 0.04058916],\n       [0.05920824, 0.07410177, 0.13556614, 0.00811675, 0.16300129,\n        0.20589885, 0.05221804, 0.10475792, 0.17209164, 0.02503936],\n       [0.13378052, 0.00884275, 0.03271009, 0.11371439, 0.14975953,\n        0.1639358 , 0.12438147, 0.14244294, 0.06225642, 0.06817611],\n       [0.12333496, 0.06927416, 0.09163509, 0.02199025, 0.05226766,\n        0.15963947, 0.18556818, 0.02164254, 0.1698441 , 0.10480359],\n       [0.02306788, 0.0170401 , 0.11502595, 0.05145944, 0.15677989,\n        0.13552005, 0.12313277, 0.06384802, 0.15742187, 0.15670402]])"
     },
     "execution_count": 86,
     "metadata": {},
     "output_type": "execute_result"
    }
   ],
   "source": [
    "proba = np.random.rand(10,10)\n",
    "proba = proba / proba.sum(axis=1).reshape((-1,1))\n",
    "proba"
   ],
   "metadata": {
    "collapsed": false,
    "pycharm": {
     "name": "#%%\n"
    }
   }
  },
  {
   "cell_type": "code",
   "execution_count": 78,
   "outputs": [
    {
     "name": "stdout",
     "output_type": "stream",
     "text": [
      "laplace: 2 wald: 8 hurwitz: 0 savage: 8\n"
     ]
    }
   ],
   "source": [
    "print('laplace:',optimal_decision(mat,crit='laplace'),\n",
    "      'wald:',optimal_decision(mat,crit='wald'),\n",
    "      'hurwitz:',optimal_decision(mat,crit='hurwitz'),\n",
    "      'savage:',optimal_decision(mat,crit='savage'))"
   ],
   "metadata": {
    "collapsed": false,
    "pycharm": {
     "name": "#%%\n"
    }
   }
  },
  {
   "cell_type": "code",
   "execution_count": 87,
   "outputs": [
    {
     "data": {
      "text/plain": "2"
     },
     "execution_count": 87,
     "metadata": {},
     "output_type": "execute_result"
    }
   ],
   "source": [
    "optimal_decision(mat,probs=proba,crit='expected value')"
   ],
   "metadata": {
    "collapsed": false,
    "pycharm": {
     "name": "#%%\n"
    }
   }
  },
  {
   "cell_type": "code",
   "execution_count": null,
   "outputs": [],
   "source": [],
   "metadata": {
    "collapsed": false,
    "pycharm": {
     "name": "#%%\n"
    }
   }
  }
 ],
 "metadata": {
  "kernelspec": {
   "display_name": "Python 3",
   "language": "python",
   "name": "python3"
  },
  "language_info": {
   "codemirror_mode": {
    "name": "ipython",
    "version": 2
   },
   "file_extension": ".py",
   "mimetype": "text/x-python",
   "name": "python",
   "nbconvert_exporter": "python",
   "pygments_lexer": "ipython2",
   "version": "2.7.6"
  }
 },
 "nbformat": 4,
 "nbformat_minor": 0
}
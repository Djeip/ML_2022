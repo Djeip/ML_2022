{
 "cells": [
  {
   "cell_type": "code",
   "execution_count": 1,
   "metadata": {
    "collapsed": true
   },
   "outputs": [],
   "source": [
    "import pandas as pd\n",
    "import numpy as np"
   ]
  },
  {
   "cell_type": "code",
   "execution_count": 9,
   "outputs": [],
   "source": [
    "deep = [400,800,1200,1500]\n",
    "cost = [1.5,2.0,2.6,3.3]\n",
    "probs = [.5,.4,.3,.2]\n",
    "earn = [6,5,4,3]\n",
    "data = pd.DataFrame([deep,cost,probs,earn]).T\n",
    "data.columns = ['d','c','p','e']"
   ],
   "metadata": {
    "collapsed": false,
    "pycharm": {
     "name": "#%%\n"
    }
   }
  },
  {
   "cell_type": "code",
   "execution_count": 10,
   "outputs": [
    {
     "data": {
      "text/plain": "        d    c    p    e\n0   400.0  1.5  0.5  6.0\n1   800.0  2.0  0.4  5.0\n2  1200.0  2.6  0.3  4.0\n3  1500.0  3.3  0.2  3.0",
      "text/html": "<div>\n<style scoped>\n    .dataframe tbody tr th:only-of-type {\n        vertical-align: middle;\n    }\n\n    .dataframe tbody tr th {\n        vertical-align: top;\n    }\n\n    .dataframe thead th {\n        text-align: right;\n    }\n</style>\n<table border=\"1\" class=\"dataframe\">\n  <thead>\n    <tr style=\"text-align: right;\">\n      <th></th>\n      <th>d</th>\n      <th>c</th>\n      <th>p</th>\n      <th>e</th>\n    </tr>\n  </thead>\n  <tbody>\n    <tr>\n      <th>0</th>\n      <td>400.0</td>\n      <td>1.5</td>\n      <td>0.5</td>\n      <td>6.0</td>\n    </tr>\n    <tr>\n      <th>1</th>\n      <td>800.0</td>\n      <td>2.0</td>\n      <td>0.4</td>\n      <td>5.0</td>\n    </tr>\n    <tr>\n      <th>2</th>\n      <td>1200.0</td>\n      <td>2.6</td>\n      <td>0.3</td>\n      <td>4.0</td>\n    </tr>\n    <tr>\n      <th>3</th>\n      <td>1500.0</td>\n      <td>3.3</td>\n      <td>0.2</td>\n      <td>3.0</td>\n    </tr>\n  </tbody>\n</table>\n</div>"
     },
     "execution_count": 10,
     "metadata": {},
     "output_type": "execute_result"
    }
   ],
   "source": [
    "data"
   ],
   "metadata": {
    "collapsed": false,
    "pycharm": {
     "name": "#%%\n"
    }
   }
  },
  {
   "cell_type": "code",
   "execution_count": 111,
   "outputs": [],
   "source": [
    "def opt_decision(df):\n",
    "    df['~p'] = 1-df['p']\n",
    "    df['cur'] = (df['e'] - df['c'])*df['p'] - df['c'] * df['~p']\n",
    "    res = []\n",
    "    for i in range(len(df.cur)):\n",
    "        if i>0:\n",
    "            ind = ((np.arange(i))-len(df.cur)).tolist()\n",
    "            ind.reverse()\n",
    "            tt = df['cur'].iloc[i]\n",
    "            for j in ind:\n",
    "                tt = df['cur'].iloc[j] + df['~p'].iloc[j] * df['c'].iloc[j]  + df['~p'].iloc[j] * tt\n",
    "            res.append(tt)\n",
    "        else:\n",
    "            res.append(df['cur'].iloc[i])\n",
    "    df['expected earnings'] = res\n",
    "    print(f'Остановка оптимальна на:{df.d.iloc[np.array(res).argmax()]} \\n'\n",
    "                 f'с ожидаемой прибылью: {max(res)}')"
   ],
   "metadata": {
    "collapsed": false,
    "pycharm": {
     "name": "#%%\n"
    }
   }
  },
  {
   "cell_type": "code",
   "execution_count": 112,
   "outputs": [
    {
     "name": "stdout",
     "output_type": "stream",
     "text": [
      "Остановка оптимальна на:1200.0 \n",
      "с ожидаемой прибылью: 2.43\n"
     ]
    }
   ],
   "source": [
    "opt_decision(data)"
   ],
   "metadata": {
    "collapsed": false,
    "pycharm": {
     "name": "#%%\n"
    }
   }
  }
 ],
 "metadata": {
  "kernelspec": {
   "display_name": "Python 3",
   "language": "python",
   "name": "python3"
  },
  "language_info": {
   "codemirror_mode": {
    "name": "ipython",
    "version": 2
   },
   "file_extension": ".py",
   "mimetype": "text/x-python",
   "name": "python",
   "nbconvert_exporter": "python",
   "pygments_lexer": "ipython2",
   "version": "2.7.6"
  }
 },
 "nbformat": 4,
 "nbformat_minor": 0
}
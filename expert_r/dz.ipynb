{
 "cells": [
  {
   "cell_type": "code",
   "execution_count": 2,
   "metadata": {},
   "outputs": [],
   "source": [
    "import numpy as np\n",
    "import pandas as pd\n",
    "import random"
   ]
  },
  {
   "cell_type": "code",
   "execution_count": 2,
   "metadata": {},
   "outputs": [],
   "source": []
  },
  {
   "cell_type": "code",
   "execution_count": 1,
   "outputs": [],
   "source": [
    "str1 = '193-205'"
   ],
   "metadata": {
    "collapsed": false,
    "pycharm": {
     "name": "#%%\n"
    }
   }
  },
  {
   "cell_type": "code",
   "execution_count": 8,
   "outputs": [],
   "source": [
    "str2 = '195.3 ( в валюте)'"
   ],
   "metadata": {
    "collapsed": false,
    "pycharm": {
     "name": "#%%\n"
    }
   }
  },
  {
   "cell_type": "code",
   "execution_count": 11,
   "outputs": [
    {
     "data": {
      "text/plain": "[False, False, False, False]"
     },
     "execution_count": 11,
     "metadata": {},
     "output_type": "execute_result"
    }
   ],
   "source": [
    "\n",
    "list(map(lambda x: isinstance(x,(float,int)),str2.split(' ')))"
   ],
   "metadata": {
    "collapsed": false,
    "pycharm": {
     "name": "#%%\n"
    }
   }
  },
  {
   "cell_type": "code",
   "execution_count": 7,
   "outputs": [
    {
     "data": {
      "text/plain": "[193, 194, 195, 196, 197, 198, 199, 200, 201, 202, 203, 204]"
     },
     "execution_count": 7,
     "metadata": {},
     "output_type": "execute_result"
    }
   ],
   "source": [
    "list(range(*list(map(int,str1.split('-')))))"
   ],
   "metadata": {
    "collapsed": false,
    "pycharm": {
     "name": "#%%\n"
    }
   }
  },
  {
   "cell_type": "code",
   "execution_count": 3,
   "metadata": {},
   "outputs": [],
   "source": [
    "def projects_gen(n):\n",
    "    res = []\n",
    "    for i in range(n):\n",
    "        t0 = random.randint(1,15)\n",
    "        t1 = t0 + random.randint(1,15)\n",
    "        res.append({'id':i,'t0':t0,'t1':t1,'d':t1-t0})\n",
    "    return pd.DataFrame(res)"
   ]
  },
  {
   "cell_type": "code",
   "execution_count": 4,
   "metadata": {},
   "outputs": [
    {
     "data": {
      "text/plain": "   id  t0  t1   d\n0   0  11  21  10\n1   1   9  21  12\n2   2   5  18  13\n3   3   2   6   4\n4   4   4   7   3",
      "text/html": "<div>\n<style scoped>\n    .dataframe tbody tr th:only-of-type {\n        vertical-align: middle;\n    }\n\n    .dataframe tbody tr th {\n        vertical-align: top;\n    }\n\n    .dataframe thead th {\n        text-align: right;\n    }\n</style>\n<table border=\"1\" class=\"dataframe\">\n  <thead>\n    <tr style=\"text-align: right;\">\n      <th></th>\n      <th>id</th>\n      <th>t0</th>\n      <th>t1</th>\n      <th>d</th>\n    </tr>\n  </thead>\n  <tbody>\n    <tr>\n      <th>0</th>\n      <td>0</td>\n      <td>11</td>\n      <td>21</td>\n      <td>10</td>\n    </tr>\n    <tr>\n      <th>1</th>\n      <td>1</td>\n      <td>9</td>\n      <td>21</td>\n      <td>12</td>\n    </tr>\n    <tr>\n      <th>2</th>\n      <td>2</td>\n      <td>5</td>\n      <td>18</td>\n      <td>13</td>\n    </tr>\n    <tr>\n      <th>3</th>\n      <td>3</td>\n      <td>2</td>\n      <td>6</td>\n      <td>4</td>\n    </tr>\n    <tr>\n      <th>4</th>\n      <td>4</td>\n      <td>4</td>\n      <td>7</td>\n      <td>3</td>\n    </tr>\n  </tbody>\n</table>\n</div>"
     },
     "execution_count": 4,
     "metadata": {},
     "output_type": "execute_result"
    }
   ],
   "source": [
    "prjs = projects_gen(20)\n",
    "prjs.head()"
   ]
  },
  {
   "cell_type": "code",
   "execution_count": 77,
   "metadata": {},
   "outputs": [],
   "source": [
    "def plan(projects_,maxx = 't0'):\n",
    "    projects = projects_.sort_values(by=maxx)\n",
    "    plan = []\n",
    "    while len(projects)!=0:\n",
    "        cur = projects.iloc[0]\n",
    "        plan.append(cur)\n",
    "        projects = projects.loc[projects[maxx]>cur[maxx]]\n",
    "    return pd.DataFrame(plan).reset_index(drop=True)\n",
    "        "
   ]
  },
  {
   "cell_type": "code",
   "execution_count": 79,
   "metadata": {},
   "outputs": [
    {
     "data": {
      "text/html": [
       "<div>\n",
       "<style scoped>\n",
       "    .dataframe tbody tr th:only-of-type {\n",
       "        vertical-align: middle;\n",
       "    }\n",
       "\n",
       "    .dataframe tbody tr th {\n",
       "        vertical-align: top;\n",
       "    }\n",
       "\n",
       "    .dataframe thead th {\n",
       "        text-align: right;\n",
       "    }\n",
       "</style>\n",
       "<table border=\"1\" class=\"dataframe\">\n",
       "  <thead>\n",
       "    <tr style=\"text-align: right;\">\n",
       "      <th></th>\n",
       "      <th>id</th>\n",
       "      <th>t0</th>\n",
       "      <th>t1</th>\n",
       "      <th>d</th>\n",
       "    </tr>\n",
       "  </thead>\n",
       "  <tbody>\n",
       "    <tr>\n",
       "      <td>0</td>\n",
       "      <td>6</td>\n",
       "      <td>14</td>\n",
       "      <td>15</td>\n",
       "      <td>1</td>\n",
       "    </tr>\n",
       "    <tr>\n",
       "      <td>1</td>\n",
       "      <td>14</td>\n",
       "      <td>2</td>\n",
       "      <td>5</td>\n",
       "      <td>3</td>\n",
       "    </tr>\n",
       "    <tr>\n",
       "      <td>2</td>\n",
       "      <td>1</td>\n",
       "      <td>13</td>\n",
       "      <td>17</td>\n",
       "      <td>4</td>\n",
       "    </tr>\n",
       "    <tr>\n",
       "      <td>3</td>\n",
       "      <td>17</td>\n",
       "      <td>5</td>\n",
       "      <td>10</td>\n",
       "      <td>5</td>\n",
       "    </tr>\n",
       "    <tr>\n",
       "      <td>4</td>\n",
       "      <td>2</td>\n",
       "      <td>7</td>\n",
       "      <td>13</td>\n",
       "      <td>6</td>\n",
       "    </tr>\n",
       "    <tr>\n",
       "      <td>5</td>\n",
       "      <td>0</td>\n",
       "      <td>14</td>\n",
       "      <td>21</td>\n",
       "      <td>7</td>\n",
       "    </tr>\n",
       "    <tr>\n",
       "      <td>6</td>\n",
       "      <td>11</td>\n",
       "      <td>1</td>\n",
       "      <td>10</td>\n",
       "      <td>9</td>\n",
       "    </tr>\n",
       "    <tr>\n",
       "      <td>7</td>\n",
       "      <td>3</td>\n",
       "      <td>9</td>\n",
       "      <td>20</td>\n",
       "      <td>11</td>\n",
       "    </tr>\n",
       "    <tr>\n",
       "      <td>8</td>\n",
       "      <td>9</td>\n",
       "      <td>8</td>\n",
       "      <td>21</td>\n",
       "      <td>13</td>\n",
       "    </tr>\n",
       "    <tr>\n",
       "      <td>9</td>\n",
       "      <td>19</td>\n",
       "      <td>9</td>\n",
       "      <td>23</td>\n",
       "      <td>14</td>\n",
       "    </tr>\n",
       "  </tbody>\n",
       "</table>\n",
       "</div>"
      ],
      "text/plain": [
       "   id  t0  t1   d\n",
       "0   6  14  15   1\n",
       "1  14   2   5   3\n",
       "2   1  13  17   4\n",
       "3  17   5  10   5\n",
       "4   2   7  13   6\n",
       "5   0  14  21   7\n",
       "6  11   1  10   9\n",
       "7   3   9  20  11\n",
       "8   9   8  21  13\n",
       "9  19   9  23  14"
      ]
     },
     "execution_count": 79,
     "metadata": {},
     "output_type": "execute_result"
    }
   ],
   "source": [
    "plan(prjs,'d')"
   ]
  },
  {
   "cell_type": "code",
   "execution_count": 5,
   "metadata": {},
   "outputs": [],
   "source": [
    "from tqdm import tqdm"
   ]
  },
  {
   "cell_type": "code",
   "execution_count": 6,
   "metadata": {},
   "outputs": [],
   "source": [
    "def imitation(m,n):\n",
    "    res = []\n",
    "    for _ in tqdm(range(m)):\n",
    "        prj = projects_gen(n)\n",
    "        res.append({'by_t0':len(plan(prj,'t0'))/n,'by_t1':len(plan(prj,'t1'))/n,'by_d':len(plan(prj,'d'))/n})\n",
    "    return pd.DataFrame(res)\n",
    "        "
   ]
  },
  {
   "cell_type": "code",
   "execution_count": 72,
   "metadata": {},
   "outputs": [
    {
     "name": "stderr",
     "output_type": "stream",
     "text": [
      "100%|████████████████████████████████████████████████████████████████████████████████| 100/100 [00:10<00:00,  9.71it/s]\n"
     ]
    }
   ],
   "source": [
    "ex_res = imitation(100,100)"
   ]
  },
  {
   "cell_type": "code",
   "execution_count": 76,
   "metadata": {},
   "outputs": [
    {
     "data": {
      "text/plain": [
       "<bound method DataFrame.idxmin of     by_t0  by_t1  by_d\n",
       "0    0.12   0.25  0.08\n",
       "1    0.15   0.27  0.11\n",
       "2    0.13   0.26  0.11\n",
       "3    0.11   0.23  0.10\n",
       "4    0.12   0.25  0.12\n",
       "..    ...    ...   ...\n",
       "95   0.13   0.25  0.11\n",
       "96   0.10   0.25  0.15\n",
       "97   0.10   0.24  0.11\n",
       "98   0.11   0.24  0.12\n",
       "99   0.10   0.25  0.11\n",
       "\n",
       "[100 rows x 3 columns]>"
      ]
     },
     "execution_count": 76,
     "metadata": {},
     "output_type": "execute_result"
    }
   ],
   "source": [
    "ex_res.idxmin()"
   ]
  },
  {
   "cell_type": "code",
   "execution_count": 73,
   "metadata": {},
   "outputs": [
    {
     "data": {
      "text/plain": [
       "by_t0    0.1134\n",
       "by_t1    0.2550\n",
       "by_d     0.1163\n",
       "dtype: float64"
      ]
     },
     "execution_count": 73,
     "metadata": {},
     "output_type": "execute_result"
    }
   ],
   "source": [
    "ex_res.mean()"
   ]
  },
  {
   "cell_type": "code",
   "execution_count": 75,
   "metadata": {},
   "outputs": [],
   "source": [
    "test = pd.read_excel(r'C:\\Users\\mag\\Documents\\Тест.xlsx')"
   ]
  },
  {
   "cell_type": "code",
   "execution_count": null,
   "metadata": {},
   "outputs": [],
   "source": []
  },
  {
   "cell_type": "code",
   "execution_count": 18,
   "metadata": {},
   "outputs": [],
   "source": [
    "import numpy as np"
   ]
  },
  {
   "cell_type": "code",
   "execution_count": 39,
   "metadata": {},
   "outputs": [],
   "source": [
    "def plan(_projects,maxx = 't0',workers=1):\n",
    "    projects = _projects.sort_values(by=maxx)\n",
    "\n",
    "    if len(projects)<=workers:\n",
    "        return projects\n",
    "    cur = projects.iloc[:workers]\n",
    "    _plan = cur['id']\n",
    "\n",
    "    while len(projects)!=0:\n",
    "        projects = projects.loc[projects[maxx]>min(cur[maxx])]\n",
    "        cur = projects.iloc[:workers]\n",
    "        _plan = np.concatenate([_plan,cur['id']])\n",
    "    return pd.DataFrame(_plan).reset_index(drop=True)\n"
   ]
  },
  {
   "cell_type": "code",
   "execution_count": 43,
   "outputs": [
    {
     "data": {
      "text/plain": "     0\n0   16\n1    3\n2    3\n3   17\n4   17\n5    4\n6   18\n7    7\n8    7\n9   19\n10  19\n11  13\n12  11\n13   8\n14   8\n15  12\n16   2\n17   5\n18  15\n19   9\n20   1\n21   0\n22  14\n23  10\n24  10",
      "text/html": "<div>\n<style scoped>\n    .dataframe tbody tr th:only-of-type {\n        vertical-align: middle;\n    }\n\n    .dataframe tbody tr th {\n        vertical-align: top;\n    }\n\n    .dataframe thead th {\n        text-align: right;\n    }\n</style>\n<table border=\"1\" class=\"dataframe\">\n  <thead>\n    <tr style=\"text-align: right;\">\n      <th></th>\n      <th>0</th>\n    </tr>\n  </thead>\n  <tbody>\n    <tr>\n      <th>0</th>\n      <td>16</td>\n    </tr>\n    <tr>\n      <th>1</th>\n      <td>3</td>\n    </tr>\n    <tr>\n      <th>2</th>\n      <td>3</td>\n    </tr>\n    <tr>\n      <th>3</th>\n      <td>17</td>\n    </tr>\n    <tr>\n      <th>4</th>\n      <td>17</td>\n    </tr>\n    <tr>\n      <th>5</th>\n      <td>4</td>\n    </tr>\n    <tr>\n      <th>6</th>\n      <td>18</td>\n    </tr>\n    <tr>\n      <th>7</th>\n      <td>7</td>\n    </tr>\n    <tr>\n      <th>8</th>\n      <td>7</td>\n    </tr>\n    <tr>\n      <th>9</th>\n      <td>19</td>\n    </tr>\n    <tr>\n      <th>10</th>\n      <td>19</td>\n    </tr>\n    <tr>\n      <th>11</th>\n      <td>13</td>\n    </tr>\n    <tr>\n      <th>12</th>\n      <td>11</td>\n    </tr>\n    <tr>\n      <th>13</th>\n      <td>8</td>\n    </tr>\n    <tr>\n      <th>14</th>\n      <td>8</td>\n    </tr>\n    <tr>\n      <th>15</th>\n      <td>12</td>\n    </tr>\n    <tr>\n      <th>16</th>\n      <td>2</td>\n    </tr>\n    <tr>\n      <th>17</th>\n      <td>5</td>\n    </tr>\n    <tr>\n      <th>18</th>\n      <td>15</td>\n    </tr>\n    <tr>\n      <th>19</th>\n      <td>9</td>\n    </tr>\n    <tr>\n      <th>20</th>\n      <td>1</td>\n    </tr>\n    <tr>\n      <th>21</th>\n      <td>0</td>\n    </tr>\n    <tr>\n      <th>22</th>\n      <td>14</td>\n    </tr>\n    <tr>\n      <th>23</th>\n      <td>10</td>\n    </tr>\n    <tr>\n      <th>24</th>\n      <td>10</td>\n    </tr>\n  </tbody>\n</table>\n</div>"
     },
     "execution_count": 43,
     "metadata": {},
     "output_type": "execute_result"
    }
   ],
   "source": [
    "plan(_projects=prjs,maxx='t1',workers=2)"
   ],
   "metadata": {
    "collapsed": false,
    "pycharm": {
     "name": "#%%\n"
    }
   }
  },
  {
   "cell_type": "code",
   "execution_count": 46,
   "outputs": [
    {
     "data": {
      "text/plain": "    id  t0  t1  d\n16  16   3   4  1\n3    3   2   6  4\n17  17   3   7  4",
      "text/html": "<div>\n<style scoped>\n    .dataframe tbody tr th:only-of-type {\n        vertical-align: middle;\n    }\n\n    .dataframe tbody tr th {\n        vertical-align: top;\n    }\n\n    .dataframe thead th {\n        text-align: right;\n    }\n</style>\n<table border=\"1\" class=\"dataframe\">\n  <thead>\n    <tr style=\"text-align: right;\">\n      <th></th>\n      <th>id</th>\n      <th>t0</th>\n      <th>t1</th>\n      <th>d</th>\n    </tr>\n  </thead>\n  <tbody>\n    <tr>\n      <th>16</th>\n      <td>16</td>\n      <td>3</td>\n      <td>4</td>\n      <td>1</td>\n    </tr>\n    <tr>\n      <th>3</th>\n      <td>3</td>\n      <td>2</td>\n      <td>6</td>\n      <td>4</td>\n    </tr>\n    <tr>\n      <th>17</th>\n      <td>17</td>\n      <td>3</td>\n      <td>7</td>\n      <td>4</td>\n    </tr>\n  </tbody>\n</table>\n</div>"
     },
     "execution_count": 46,
     "metadata": {},
     "output_type": "execute_result"
    }
   ],
   "source": [
    "prjs.sort_values(by='t1')[:3]"
   ],
   "metadata": {
    "collapsed": false,
    "pycharm": {
     "name": "#%%\n"
    }
   }
  },
  {
   "cell_type": "code",
   "execution_count": 59,
   "outputs": [],
   "source": [
    "def plan_n_(projects_,maxx = 't0'):\n",
    "    projects = projects_.sort_values(by=maxx)\n",
    "    plan = []\n",
    "    while len(projects)!=0:\n",
    "        cur = projects.iloc[0]\n",
    "        plan.append(cur)\n",
    "        projects = projects.loc[projects[maxx]>cur[maxx]]\n",
    "    res = pd.DataFrame(plan).reset_index(drop=True)\n",
    "    return res,projects_.drop(res.id.tolist())"
   ],
   "metadata": {
    "collapsed": false,
    "pycharm": {
     "name": "#%%\n"
    }
   }
  },
  {
   "cell_type": "code",
   "execution_count": 63,
   "outputs": [],
   "source": [
    "def plan_n(projects_,maxx = 't0',workers = 1):\n",
    "    resid = projects_.sort_values(by=maxx)\n",
    "    plan = None\n",
    "    res = None\n",
    "    for i in range(workers):\n",
    "        plan,resid = plan_n_(resid,maxx)\n",
    "        plan['worker'] = i\n",
    "        res = pd.concat([plan,res])\n",
    "        if len(resid.id)==0:\n",
    "            break\n",
    "    return res"
   ],
   "metadata": {
    "collapsed": false,
    "pycharm": {
     "name": "#%%\n"
    }
   }
  },
  {
   "cell_type": "code",
   "execution_count": null,
   "outputs": [],
   "source": [],
   "metadata": {
    "collapsed": false,
    "pycharm": {
     "name": "#%%\n"
    }
   }
  },
  {
   "cell_type": "code",
   "execution_count": 68,
   "outputs": [
    {
     "data": {
      "text/plain": "    id  t0  t1   d  worker\n0   12   3  17  14       3\n0   13   3  14  11       2\n0    3   2   6   4       1\n1   16   3   4   1       1\n2    8   4  17  13       1\n3    0  11  21  10       1\n4   10  13  26  13       1\n0   19   2  14  12       0\n1   17   3   7   4       0\n2    4   4   7   3       0\n3    2   5  18  13       0\n4   15   6  19  13       0\n5    9   7  19  12       0\n6   18   8   9   1       0\n7    1   9  21  12       0\n8   11  10  16   6       0\n9    7  11  12   1       0\n10   5  12  18   6       0\n11  14  13  24  11       0\n12   6  15  18   3       0",
      "text/html": "<div>\n<style scoped>\n    .dataframe tbody tr th:only-of-type {\n        vertical-align: middle;\n    }\n\n    .dataframe tbody tr th {\n        vertical-align: top;\n    }\n\n    .dataframe thead th {\n        text-align: right;\n    }\n</style>\n<table border=\"1\" class=\"dataframe\">\n  <thead>\n    <tr style=\"text-align: right;\">\n      <th></th>\n      <th>id</th>\n      <th>t0</th>\n      <th>t1</th>\n      <th>d</th>\n      <th>worker</th>\n    </tr>\n  </thead>\n  <tbody>\n    <tr>\n      <th>0</th>\n      <td>12</td>\n      <td>3</td>\n      <td>17</td>\n      <td>14</td>\n      <td>3</td>\n    </tr>\n    <tr>\n      <th>0</th>\n      <td>13</td>\n      <td>3</td>\n      <td>14</td>\n      <td>11</td>\n      <td>2</td>\n    </tr>\n    <tr>\n      <th>0</th>\n      <td>3</td>\n      <td>2</td>\n      <td>6</td>\n      <td>4</td>\n      <td>1</td>\n    </tr>\n    <tr>\n      <th>1</th>\n      <td>16</td>\n      <td>3</td>\n      <td>4</td>\n      <td>1</td>\n      <td>1</td>\n    </tr>\n    <tr>\n      <th>2</th>\n      <td>8</td>\n      <td>4</td>\n      <td>17</td>\n      <td>13</td>\n      <td>1</td>\n    </tr>\n    <tr>\n      <th>3</th>\n      <td>0</td>\n      <td>11</td>\n      <td>21</td>\n      <td>10</td>\n      <td>1</td>\n    </tr>\n    <tr>\n      <th>4</th>\n      <td>10</td>\n      <td>13</td>\n      <td>26</td>\n      <td>13</td>\n      <td>1</td>\n    </tr>\n    <tr>\n      <th>0</th>\n      <td>19</td>\n      <td>2</td>\n      <td>14</td>\n      <td>12</td>\n      <td>0</td>\n    </tr>\n    <tr>\n      <th>1</th>\n      <td>17</td>\n      <td>3</td>\n      <td>7</td>\n      <td>4</td>\n      <td>0</td>\n    </tr>\n    <tr>\n      <th>2</th>\n      <td>4</td>\n      <td>4</td>\n      <td>7</td>\n      <td>3</td>\n      <td>0</td>\n    </tr>\n    <tr>\n      <th>3</th>\n      <td>2</td>\n      <td>5</td>\n      <td>18</td>\n      <td>13</td>\n      <td>0</td>\n    </tr>\n    <tr>\n      <th>4</th>\n      <td>15</td>\n      <td>6</td>\n      <td>19</td>\n      <td>13</td>\n      <td>0</td>\n    </tr>\n    <tr>\n      <th>5</th>\n      <td>9</td>\n      <td>7</td>\n      <td>19</td>\n      <td>12</td>\n      <td>0</td>\n    </tr>\n    <tr>\n      <th>6</th>\n      <td>18</td>\n      <td>8</td>\n      <td>9</td>\n      <td>1</td>\n      <td>0</td>\n    </tr>\n    <tr>\n      <th>7</th>\n      <td>1</td>\n      <td>9</td>\n      <td>21</td>\n      <td>12</td>\n      <td>0</td>\n    </tr>\n    <tr>\n      <th>8</th>\n      <td>11</td>\n      <td>10</td>\n      <td>16</td>\n      <td>6</td>\n      <td>0</td>\n    </tr>\n    <tr>\n      <th>9</th>\n      <td>7</td>\n      <td>11</td>\n      <td>12</td>\n      <td>1</td>\n      <td>0</td>\n    </tr>\n    <tr>\n      <th>10</th>\n      <td>5</td>\n      <td>12</td>\n      <td>18</td>\n      <td>6</td>\n      <td>0</td>\n    </tr>\n    <tr>\n      <th>11</th>\n      <td>14</td>\n      <td>13</td>\n      <td>24</td>\n      <td>11</td>\n      <td>0</td>\n    </tr>\n    <tr>\n      <th>12</th>\n      <td>6</td>\n      <td>15</td>\n      <td>18</td>\n      <td>3</td>\n      <td>0</td>\n    </tr>\n  </tbody>\n</table>\n</div>"
     },
     "execution_count": 68,
     "metadata": {},
     "output_type": "execute_result"
    }
   ],
   "source": [
    "plan_n(prjs,'t0',workers=6)"
   ],
   "metadata": {
    "collapsed": false,
    "pycharm": {
     "name": "#%%\n"
    }
   }
  },
  {
   "cell_type": "code",
   "execution_count": 69,
   "outputs": [],
   "source": [
    "def imitation(m,n):\n",
    "    res = []\n",
    "    for _ in tqdm(range(m)):\n",
    "        prj = projects_gen(n)\n",
    "        res.append({'by_t0':len(plan_n(prj,'t0',workers=4))/n,'by_t1':len(plan_n(prj,'t1',workers=6))/n,'by_d':len(plan_n(prj,'d',workers=6))/n})\n",
    "    return pd.DataFrame(res)"
   ],
   "metadata": {
    "collapsed": false,
    "pycharm": {
     "name": "#%%\n"
    }
   }
  },
  {
   "cell_type": "code",
   "execution_count": 73,
   "outputs": [
    {
     "name": "stderr",
     "output_type": "stream",
     "text": [
      "100%|██████████| 50/50 [00:08<00:00,  5.66it/s]\n"
     ]
    }
   ],
   "source": [
    "ex  =imitation(50,200)"
   ],
   "metadata": {
    "collapsed": false,
    "pycharm": {
     "name": "#%%\n"
    }
   }
  },
  {
   "cell_type": "code",
   "execution_count": 74,
   "outputs": [
    {
     "data": {
      "text/plain": "by_t0    0.3000\nby_t1    0.6701\nby_d     0.4495\ndtype: float64"
     },
     "execution_count": 74,
     "metadata": {},
     "output_type": "execute_result"
    }
   ],
   "source": [
    "ex.mean()"
   ],
   "metadata": {
    "collapsed": false,
    "pycharm": {
     "name": "#%%\n"
    }
   }
  }
 ],
 "metadata": {
  "kernelspec": {
   "display_name": "Python 3",
   "language": "python",
   "name": "python3"
  },
  "language_info": {
   "codemirror_mode": {
    "name": "ipython",
    "version": 3
   },
   "file_extension": ".py",
   "mimetype": "text/x-python",
   "name": "python",
   "nbconvert_exporter": "python",
   "pygments_lexer": "ipython3",
   "version": "3.7.4"
  }
 },
 "nbformat": 4,
 "nbformat_minor": 2
}
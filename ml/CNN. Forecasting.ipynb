{
 "cells": [
  {
   "cell_type": "markdown",
   "metadata": {},
   "source": [
    "### Задание"
   ]
  },
  {
   "cell_type": "code",
   "execution_count": null,
   "metadata": {},
   "outputs": [],
   "source": [
    "import torch\n",
    "import torch.nn as nn"
   ]
  },
  {
   "cell_type": "markdown",
   "metadata": {},
   "source": [
    "1. Загрузите выборку passengers.csv. Примените `MinMaxScaler` из модуля `sklearn.preprocessing` в временному ряду `num_passengers`."
   ]
  },
  {
   "cell_type": "code",
   "execution_count": null,
   "metadata": {},
   "outputs": [],
   "source": []
  },
  {
   "cell_type": "code",
   "execution_count": null,
   "metadata": {},
   "outputs": [],
   "source": []
  },
  {
   "cell_type": "markdown",
   "metadata": {},
   "source": [
    "2. Напишите функцию, которая принимает на вход временной ряд и ширину окна `k`, а возвращает `X`, `y` в формате `torch.Tensor`. Каждая строка объекта `X` должна содержать значения временного ряда $y_{t-k}, \\ldots, y_{t-1}$, а на соответствующей позиции объекта `y` будет содержаться ответ $y_t$."
   ]
  },
  {
   "cell_type": "code",
   "execution_count": null,
   "metadata": {},
   "outputs": [],
   "source": []
  },
  {
   "cell_type": "code",
   "execution_count": null,
   "metadata": {},
   "outputs": [],
   "source": []
  },
  {
   "cell_type": "markdown",
   "metadata": {},
   "source": [
    "3. Воспользуйтесь готовой функцией с шириной окна `k=12`. Измените размерность `X` на (размер выборки, количество каналов `1`, ширина окна `k`)."
   ]
  },
  {
   "cell_type": "code",
   "execution_count": null,
   "metadata": {},
   "outputs": [],
   "source": []
  },
  {
   "cell_type": "code",
   "execution_count": null,
   "metadata": {},
   "outputs": [],
   "source": []
  },
  {
   "cell_type": "markdown",
   "metadata": {},
   "source": [
    "4. Разделите выборку на обучение и контроль. Для контроля оставьте 36 последних значений."
   ]
  },
  {
   "cell_type": "code",
   "execution_count": null,
   "metadata": {},
   "outputs": [],
   "source": []
  },
  {
   "cell_type": "code",
   "execution_count": null,
   "metadata": {},
   "outputs": [],
   "source": []
  },
  {
   "cell_type": "markdown",
   "metadata": {},
   "source": [
    "5. Напишите класс для сверточной нейронной сети `CNN`. Нейронная сеть должна иметь следующую архитектуру:"
   ]
  },
  {
   "cell_type": "markdown",
   "metadata": {},
   "source": [
    "- первый слой &ndash; сверточный (`torch.nn.Conv1D`): число каналов на вход &ndash; 1, на выход &ndash; 64, размер ядра свертки &ndash; 8, `stride=1`, функция активации &ndash; ReLU (`torch.nn.ReLU()`);\n",
    "- второй слой &ndash; слой субдискретизации (`torch.nn.MaxPool1d`) с шириной окна 5;\n",
    "- после применения сверточного слоя и слоя субдискретизации необходимо воспользоваться функцией `torch.flatten(..., 1)`, чтобы преобразовать полученный результат в вектор. Количество элементов вектора окажется равным 64 (подумайте, почему);\n",
    "- полученный вектор передается на вход полносвязному слою `torch.nn.Linear` с 50 нейронами скрытого слоя, функция активации также ReLU;\n",
    "- результат передается на выход сети (еще один `torch.nn.Linear` с 1 нейроном на выходном слое)."
   ]
  },
  {
   "cell_type": "code",
   "execution_count": null,
   "metadata": {},
   "outputs": [],
   "source": [
    "class CNN(nn.Module):\n",
    "    def __init__(self):\n",
    "        super(CNN, self).__init__()\n",
    "        \n",
    "        # Ваш код здесь\n",
    "        \n",
    "    def forward(self, inputs):\n",
    "        \n",
    "        # Ваш код здесь\n",
    "        \n",
    "        pass"
   ]
  },
  {
   "cell_type": "markdown",
   "metadata": {},
   "source": [
    "6. Для обучения сети задайте функцию активации `torch.nn.MSELoss()` и используйте метод `Adam` с шагом обучения `lr=0.001`. Обучите сверточную нейронную сеть на 1000 эпохах. Размер мини-батча &ndash; вся выборка. Во время обучения выводите величину функции потерь на обучающей выборке каждые 100 эпох."
   ]
  },
  {
   "cell_type": "code",
   "execution_count": null,
   "metadata": {},
   "outputs": [],
   "source": [
    "# не забыть перед обучением\n",
    "torch.manual_seed(0)"
   ]
  },
  {
   "cell_type": "code",
   "execution_count": null,
   "metadata": {},
   "outputs": [],
   "source": []
  },
  {
   "cell_type": "markdown",
   "metadata": {},
   "source": [
    "7. Вызовите метод `.eval()` обученной модели, чтобы перейти к построению прогноза. Получите предсказания модели для тестовой выборки. Преобразуйте предсказания обратно к массиву numpy через метод `.data.numpy()`. С помощью метода `inverse_transform` у `MinMaxScaler` получите предсказания для исходного временного ряда."
   ]
  },
  {
   "cell_type": "code",
   "execution_count": null,
   "metadata": {},
   "outputs": [],
   "source": []
  },
  {
   "cell_type": "code",
   "execution_count": null,
   "metadata": {},
   "outputs": [],
   "source": []
  },
  {
   "cell_type": "code",
   "execution_count": null,
   "metadata": {},
   "outputs": [],
   "source": []
  },
  {
   "cell_type": "markdown",
   "metadata": {},
   "source": [
    "8. Отобразите на графике исходный ряд и полученный прогноз."
   ]
  },
  {
   "cell_type": "code",
   "execution_count": null,
   "metadata": {},
   "outputs": [],
   "source": []
  }
 ],
 "metadata": {
  "kernelspec": {
   "display_name": "Python 3",
   "language": "python",
   "name": "python3"
  },
  "language_info": {
   "codemirror_mode": {
    "name": "ipython",
    "version": 3
   },
   "file_extension": ".py",
   "mimetype": "text/x-python",
   "name": "python",
   "nbconvert_exporter": "python",
   "pygments_lexer": "ipython3",
   "version": "3.7.6"
  }
 },
 "nbformat": 4,
 "nbformat_minor": 4
}

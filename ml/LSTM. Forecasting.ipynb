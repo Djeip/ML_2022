{
 "cells": [
  {
   "cell_type": "markdown",
   "metadata": {},
   "source": [
    "### Задание"
   ]
  },
  {
   "cell_type": "code",
   "execution_count": null,
   "metadata": {},
   "outputs": [],
   "source": [
    "import torch\n",
    "import torch.nn as nn\n",
    "torch.manual_seed(0)"
   ]
  },
  {
   "cell_type": "markdown",
   "metadata": {},
   "source": [
    "1. Повторите шаги 1-4 из предыдущего задания со следующими изменениями:"
   ]
  },
  {
   "cell_type": "markdown",
   "metadata": {},
   "source": [
    "- ширину окна $k$ из задания 3 положите равной 4;\n",
    "- размерность `X` на выходе: (размер выборки, ширина окна `k`, 1)."
   ]
  },
  {
   "cell_type": "code",
   "execution_count": null,
   "metadata": {},
   "outputs": [],
   "source": []
  },
  {
   "cell_type": "code",
   "execution_count": null,
   "metadata": {},
   "outputs": [],
   "source": []
  },
  {
   "cell_type": "code",
   "execution_count": null,
   "metadata": {},
   "outputs": [],
   "source": []
  },
  {
   "cell_type": "markdown",
   "metadata": {},
   "source": [
    "2. Реализуйте сеть LSTM для решения задачи прогнозирования объемов пассажирских авиаперевозок. Воспользуйтесь шаблоном ниже:"
   ]
  },
  {
   "cell_type": "markdown",
   "metadata": {},
   "source": [
    "- в `__init__` укажите два слоя: LSTM (`torch.nn.LSTM`) и полносвязный (`torch.nn.Linear`). Для слоя LSTM укажите параметры: `input_size=1`, размер скрытого вектора $h$ `hidden_size=hidden_size`, количество слоев `num_layers=1` и `batch_first=True`;\n",
    "- слой LSTM вернет последнее скрытое состояние $h_t$, которое далее должно быть передано в полносвязный слой. Учитывая это, укажите нужную размерность входного и выходного векторов в полносвязном слое `torch.nn.Linear`;\n",
    "- в методе `forward` задаются начальные состояния $h_0$ и ячейки памяти $c_0$, их размерности должны совпадать;\n",
    "- после применения слоя LSTM переменная `h_out` будет хранить последнее скрытое состояние, которое затем необходимо преобразовать в вектор;\n",
    "- после данного преобразования примените полносвязный слой и обучите полученную сеть на 2000 эпохах с шагом обучения 0.01 (функция потерь также MSE, оптимизатор &ndash; Adam)."
   ]
  },
  {
   "cell_type": "code",
   "execution_count": null,
   "metadata": {},
   "outputs": [],
   "source": [
    "class LSTM(nn.Module):\n",
    "\n",
    "    def __init__(self, hidden_size):\n",
    "        super(LSTM, self).__init__()\n",
    "        \n",
    "        self.hidden_size = hidden_size\n",
    "        \n",
    "        # Ваш код здесь\n",
    "        # self.lstm = ...\n",
    "\n",
    "    def forward(self, inputs):\n",
    "        \n",
    "        h_0 = torch.zeros(1, inputs.size(0), self.hidden_size)\n",
    "        c_0 = torch.zeros(1, inputs.size(0), self.hidden_size)\n",
    "\n",
    "        output_features, (h_out, _) = self.lstm(inputs, (h_0, c_0))\n",
    "        \n",
    "        h_out = h_out.view(-1, self.hidden_size)\n",
    "        \n",
    "        # Ваш код здесь"
   ]
  },
  {
   "cell_type": "code",
   "execution_count": null,
   "metadata": {},
   "outputs": [],
   "source": []
  },
  {
   "cell_type": "code",
   "execution_count": null,
   "metadata": {},
   "outputs": [],
   "source": []
  },
  {
   "cell_type": "code",
   "execution_count": null,
   "metadata": {},
   "outputs": [],
   "source": []
  },
  {
   "cell_type": "markdown",
   "metadata": {},
   "source": [
    "3. Повторите шаги 7-8 из предыдущего задания."
   ]
  },
  {
   "cell_type": "code",
   "execution_count": null,
   "metadata": {},
   "outputs": [],
   "source": []
  },
  {
   "cell_type": "code",
   "execution_count": null,
   "metadata": {},
   "outputs": [],
   "source": []
  },
  {
   "cell_type": "code",
   "execution_count": null,
   "metadata": {},
   "outputs": [],
   "source": []
  },
  {
   "cell_type": "markdown",
   "metadata": {},
   "source": [
    "4. \\* Попробуйте улучшить качество предсказаний (и CNN, и LSTM), меняя следующие параметры:"
   ]
  },
  {
   "cell_type": "markdown",
   "metadata": {},
   "source": [
    "- ширину окна $k$;\n",
    "- ширину окна сверточного слоя и слоя субдискретизации;\n",
    "- количество слоев;\n",
    "- количество нейронов скрытого слоя и т.д."
   ]
  },
  {
   "cell_type": "code",
   "execution_count": null,
   "metadata": {},
   "outputs": [],
   "source": []
  },
  {
   "cell_type": "code",
   "execution_count": null,
   "metadata": {},
   "outputs": [],
   "source": []
  },
  {
   "cell_type": "code",
   "execution_count": null,
   "metadata": {},
   "outputs": [],
   "source": []
  }
 ],
 "metadata": {
  "kernelspec": {
   "display_name": "Python 3",
   "language": "python",
   "name": "python3"
  },
  "language_info": {
   "codemirror_mode": {
    "name": "ipython",
    "version": 3
   },
   "file_extension": ".py",
   "mimetype": "text/x-python",
   "name": "python",
   "nbconvert_exporter": "python",
   "pygments_lexer": "ipython3",
   "version": "3.7.6"
  }
 },
 "nbformat": 4,
 "nbformat_minor": 4
}

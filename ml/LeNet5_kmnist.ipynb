{
 "cells": [
  {
   "cell_type": "code",
   "execution_count": 104,
   "metadata": {
    "collapsed": true
   },
   "outputs": [],
   "source": [
    "import pandas as pd\n",
    "import torch\n",
    "import torchvision\n",
    "from torch.utils.data import Dataset\n",
    "import torch.nn as nn\n",
    "from torchvision import transforms\n",
    "from sklearn.model_selection import train_test_split\n",
    "from torch.utils.data import random_split"
   ]
  },
  {
   "cell_type": "code",
   "execution_count": 105,
   "outputs": [],
   "source": [
    "df = pd.read_csv(r'C:\\Users\\Lenovo\\Documents\\kmnist.csv')\n",
    "X = df.drop('label',axis=1)\n",
    "X = X.values.reshape(-1,28,28)\n",
    "X = X/255.0\n",
    "y = df.label"
   ],
   "metadata": {
    "collapsed": false
   }
  },
  {
   "cell_type": "code",
   "execution_count": 114,
   "outputs": [
    {
     "data": {
      "text/plain": "(36495, 28, 28)"
     },
     "execution_count": 114,
     "metadata": {},
     "output_type": "execute_result"
    }
   ],
   "source": [
    "X.shape"
   ],
   "metadata": {
    "collapsed": false
   }
  },
  {
   "cell_type": "code",
   "execution_count": 106,
   "outputs": [],
   "source": [
    "class CustomImageDataset(Dataset):\n",
    "    def __init__(self, X,y):\n",
    "        self.img = torch.tensor(X)\n",
    "        self.img_labels = torch.LongTensor(y)\n",
    "\n",
    "    def __len__(self):\n",
    "        return len(self.img_labels)\n",
    "\n",
    "    def __getitem__(self, idx):\n",
    "\n",
    "        return self.img[idx].reshape(1,28,28), self.img_labels[idx]"
   ],
   "metadata": {
    "collapsed": false
   }
  },
  {
   "cell_type": "code",
   "execution_count": 107,
   "outputs": [],
   "source": [
    "dataset = CustomImageDataset(X,y)"
   ],
   "metadata": {
    "collapsed": false
   }
  },
  {
   "cell_type": "code",
   "execution_count": 108,
   "outputs": [],
   "source": [
    "train,test = random_split(dataset,[10949, 25546])"
   ],
   "metadata": {
    "collapsed": false
   }
  },
  {
   "cell_type": "code",
   "execution_count": 108,
   "outputs": [],
   "source": [],
   "metadata": {
    "collapsed": false
   }
  },
  {
   "cell_type": "code",
   "execution_count": 109,
   "outputs": [],
   "source": [
    "train_loader = torch.utils.data.DataLoader(dataset=train,batch_size=100)\n",
    "test_loader = torch.utils.data.DataLoader(dataset=test,\n",
    "                                           batch_size=100)\n"
   ],
   "metadata": {
    "collapsed": false
   }
  },
  {
   "cell_type": "code",
   "execution_count": 110,
   "outputs": [],
   "source": [
    "class LeNet5(nn.Module):\n",
    "    def __init__(self, num_classes):\n",
    "        super(LeNet5, self).__init__()\n",
    "        self.conv_layer1 = nn.Conv2d(in_channels=1, out_channels=8, kernel_size=5, stride=1,padding=1)\n",
    "        self.conv_layer2 = nn.Conv2d(in_channels=8, out_channels=16, kernel_size=5, stride=1,padding=0)\n",
    "        self.conv_layer3 = nn.Conv2d(in_channels=16, out_channels=32, kernel_size=5, stride=1,padding=0)\n",
    "        self.conv_layer4 = nn.Conv2d(in_channels=32, out_channels=32, kernel_size=5, stride=1,padding=0)\n",
    "        self.pooling_layer1 = nn.MaxPool2d(kernel_size=2)\n",
    "\n",
    "        self.linear_layer1 = nn.Linear(in_features=32, out_features=64)\n",
    "        self.linear_layer2 = nn.Linear(in_features=64, out_features=num_classes)\n",
    "\n",
    "        self.relu = nn.ReLU()\n",
    "        self.softmax = nn.Softmax()\n",
    "\n",
    "    def forward(self, inputs):\n",
    "        print(inputs.shape,inputs.type())\n",
    "        output_1 = self.relu(self.conv_layer1(inputs))\n",
    "        output_2 = self.pooling_layer1(output_1)\n",
    "        output_3 = self.relu(self.conv_layer2(output_2))\n",
    "        output_4 = self.pooling_layer2(output_3)\n",
    "        output_5 = self.tanh(self.conv_layer3(output_4))\n",
    "        output_6 = torch.flatten(output_5, 1)\n",
    "\n",
    "        output_7 = self.relu(self.linear_layer1(output_6))\n",
    "        output = self.linear_layer2(output_7)\n",
    "\n",
    "        return self.softmax(output)"
   ],
   "metadata": {
    "collapsed": false
   }
  },
  {
   "cell_type": "code",
   "execution_count": 111,
   "outputs": [
    {
     "name": "stdout",
     "output_type": "stream",
     "text": [
      "LeNet5(\n",
      "  (conv_layer1): Conv2d(1, 8, kernel_size=(5, 5), stride=(1, 1), padding=(1, 1))\n",
      "  (conv_layer2): Conv2d(8, 16, kernel_size=(5, 5), stride=(1, 1))\n",
      "  (conv_layer3): Conv2d(16, 32, kernel_size=(5, 5), stride=(1, 1))\n",
      "  (conv_layer4): Conv2d(32, 32, kernel_size=(5, 5), stride=(1, 1))\n",
      "  (pooling_layer1): MaxPool2d(kernel_size=2, stride=2, padding=0, dilation=1, ceil_mode=False)\n",
      "  (linear_layer1): Linear(in_features=32, out_features=64, bias=True)\n",
      "  (linear_layer2): Linear(in_features=84, out_features=14, bias=True)\n",
      "  (relu): ReLU()\n",
      "  (softmax): Softmax(dim=None)\n",
      ")\n"
     ]
    }
   ],
   "source": [
    "model = LeNet5(14)\n",
    "print(model)"
   ],
   "metadata": {
    "collapsed": false
   }
  },
  {
   "cell_type": "code",
   "execution_count": 112,
   "outputs": [],
   "source": [
    "criterion = nn.CrossEntropyLoss()\n",
    "optimizer = torch.optim.Adam(model.parameters(), lr=0.001)"
   ],
   "metadata": {
    "collapsed": false
   }
  },
  {
   "cell_type": "code",
   "execution_count": null,
   "outputs": [],
   "source": [
    "total_step = len(train_loader)\n",
    "for epoch in range(5):\n",
    "    for i, (X_test, y_train) in enumerate(train_loader):\n",
    "        outputs = model(X_test)\n",
    "        loss = criterion(outputs, y_train)\n",
    "        optimizer.zero_grad()\n",
    "        loss.backward()\n",
    "        optimizer.step()\n",
    "\n",
    "        if (i+1) % 100 == 0:\n",
    "            print ('Epoch [{}/{}], Step [{}/{}], Loss: {:.4f}'\n",
    "                   .format(epoch+1, 5, i+1, total_step, loss.item()))"
   ],
   "metadata": {
    "collapsed": false,
    "pycharm": {
     "is_executing": true
    }
   }
  },
  {
   "cell_type": "code",
   "execution_count": null,
   "outputs": [],
   "source": [
    "with torch.no_grad():\n",
    "    correct = 0\n",
    "    total = 0\n",
    "    for images, labels in test_loader:\n",
    "        outputs = model(images)\n",
    "        _, predicted = torch.max(outputs.data, 1)\n",
    "        total += labels.size(0)\n",
    "        correct += (predicted == labels).sum().item()\n",
    "\n",
    "    print('Accuracy: {} %'.format(100 * correct / total))"
   ],
   "metadata": {
    "collapsed": false
   }
  }
 ],
 "metadata": {
  "kernelspec": {
   "display_name": "Python 3",
   "language": "python",
   "name": "python3"
  },
  "language_info": {
   "codemirror_mode": {
    "name": "ipython",
    "version": 2
   },
   "file_extension": ".py",
   "mimetype": "text/x-python",
   "name": "python",
   "nbconvert_exporter": "python",
   "pygments_lexer": "ipython2",
   "version": "2.7.6"
  }
 },
 "nbformat": 4,
 "nbformat_minor": 0
}

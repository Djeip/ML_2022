{
 "cells": [
  {
   "cell_type": "code",
   "execution_count": 19,
   "metadata": {
    "collapsed": true,
    "pycharm": {
     "name": "#%%\n"
    }
   },
   "outputs": [],
   "source": [
    "import numpy as np\n",
    "import pandas as pd\n",
    "import torch\n",
    "import cv2\n",
    "import os"
   ]
  },
  {
   "cell_type": "code",
   "execution_count": 3,
   "outputs": [],
   "source": [
    "img = cv2.imread('C:/Users/Lenovo/Documents/train/indoor/3.jpg')"
   ],
   "metadata": {
    "collapsed": false,
    "pycharm": {
     "name": "#%%\n"
    }
   }
  },
  {
   "cell_type": "code",
   "execution_count": 4,
   "outputs": [
    {
     "data": {
      "text/plain": "(100, 74, 3)"
     },
     "execution_count": 4,
     "metadata": {},
     "output_type": "execute_result"
    }
   ],
   "source": [
    "img.shape"
   ],
   "metadata": {
    "collapsed": false,
    "pycharm": {
     "name": "#%%\n"
    }
   }
  },
  {
   "cell_type": "code",
   "execution_count": 14,
   "outputs": [
    {
     "data": {
      "text/plain": "array([[ 17,  17,  17, ...,  97, 106, 104],\n       [ 17,  17,  17, ...,  92, 103, 101],\n       [ 17,  17,  17, ...,  91,  96,  90],\n       ...,\n       [200, 192, 193, ..., 112,  89,  89],\n       [200, 192, 193, ...,  99, 117, 117],\n       [200, 192, 193, ..., 161, 165, 165]], dtype=uint8)"
     },
     "execution_count": 14,
     "metadata": {},
     "output_type": "execute_result"
    }
   ],
   "source": [
    "img[:,:,0]"
   ],
   "metadata": {
    "collapsed": false,
    "pycharm": {
     "name": "#%%\n"
    }
   }
  },
  {
   "cell_type": "code",
   "execution_count": 12,
   "outputs": [],
   "source": [
    "def get_metrics(img):\n",
    "    image = cv2.imread(img)\n",
    "    return {'r_mean':image[:,:,0].mean(),\n",
    "     'g_mean':image[:,:,1].mean(),\n",
    "     'b_mean':image[:,:,2].mean(),\n",
    "     'r_std':image[:,:,0].std(),\n",
    "     'g_std':image[:,:,1].std(),\n",
    "     'b_std':image[:,:,2].std()}"
   ],
   "metadata": {
    "collapsed": false,
    "pycharm": {
     "name": "#%%\n"
    }
   }
  },
  {
   "cell_type": "code",
   "execution_count": 11,
   "outputs": [
    {
     "data": {
      "text/plain": "['10.jpg',\n '10000.jpg',\n '10002.jpg',\n '10005.jpg',\n '10007.jpg',\n '10008.jpg',\n '10010.jpg',\n '10011.jpg',\n '10012.jpg',\n '10014.jpg',\n '10015.jpg',\n '10019.jpg',\n '1002.jpg',\n '10022.jpg',\n '10024.jpg',\n '10026.jpg',\n '10027.jpg',\n '1003.jpg',\n '10032.jpg',\n '10033.jpg',\n '10035.jpg',\n '10036.jpg',\n '10040.jpg',\n '10044.jpg',\n '10046.jpg',\n '10048.jpg',\n '10049.jpg',\n '10050.jpg',\n '10053.jpg',\n '10057.jpg',\n '10062.jpg',\n '10063.jpg',\n '10065.jpg',\n '10066.jpg',\n '10067.jpg',\n '10069.jpg',\n '10070.jpg',\n '10075.jpg',\n '10080.jpg',\n '10085.jpg',\n '10086.jpg',\n '10088.jpg',\n '10093.jpg',\n '10094.jpg',\n '10098.jpg',\n '10099.jpg',\n '101.jpg',\n '1010.jpg',\n '10101.jpg',\n '10102.jpg',\n '10103.jpg',\n '10108.jpg',\n '10109.jpg',\n '10111.jpg',\n '10112.jpg',\n '10115.jpg',\n '10117.jpg',\n '10118.jpg',\n '1012.jpg',\n '10121.jpg',\n '10123.jpg',\n '10129.jpg',\n '10131.jpg',\n '10132.jpg',\n '10136.jpg',\n '10138.jpg',\n '10140.jpg',\n '10146.jpg',\n '10147.jpg',\n '10148.jpg',\n '1015.jpg',\n '10151.jpg',\n '10157.jpg',\n '10160.jpg',\n '10161.jpg',\n '10164.jpg',\n '10167.jpg',\n '10168.jpg',\n '10172.jpg',\n '10173.jpg',\n '10174.jpg',\n '10175.jpg',\n '10180.jpg',\n '10184.jpg',\n '10185.jpg',\n '10186.jpg',\n '1019.jpg',\n '10190.jpg',\n '10194.jpg',\n '10195.jpg',\n '10196.jpg',\n '10197.jpg',\n '10198.jpg',\n '102.jpg',\n '10203.jpg',\n '10204.jpg',\n '10205.jpg',\n '10206.jpg',\n '10208.jpg',\n '10209.jpg',\n '10210.jpg',\n '10211.jpg',\n '10223.jpg',\n '10224.jpg',\n '10226.jpg',\n '10228.jpg',\n '10230.jpg',\n '10232.jpg',\n '10235.jpg',\n '10237.jpg',\n '10241.jpg',\n '10242.jpg',\n '10245.jpg',\n '10246.jpg',\n '10247.jpg',\n '10256.jpg',\n '10257.jpg',\n '10259.jpg',\n '10261.jpg',\n '10264.jpg',\n '10265.jpg',\n '10266.jpg',\n '10267.jpg',\n '1027.jpg',\n '10270.jpg',\n '10276.jpg',\n '10278.jpg',\n '10279.jpg',\n '1028.jpg',\n '10281.jpg',\n '10282.jpg',\n '10285.jpg',\n '10286.jpg',\n '10288.jpg',\n '1029.jpg',\n '10290.jpg',\n '10291.jpg',\n '10294.jpg',\n '10295.jpg',\n '10296.jpg',\n '10297.jpg',\n '10300.jpg',\n '10305.jpg',\n '10306.jpg',\n '10308.jpg',\n '10312.jpg',\n '10314.jpg',\n '10317.jpg',\n '10320.jpg',\n '10322.jpg',\n '10323.jpg',\n '10324.jpg',\n '10326.jpg',\n '10334.jpg',\n '10337.jpg',\n '10338.jpg',\n '1034.jpg',\n '10342.jpg',\n '10343.jpg',\n '10346.jpg',\n '10347.jpg',\n '10348.jpg',\n '10349.jpg',\n '1035.jpg',\n '10351.jpg',\n '10357.jpg',\n '10366.jpg',\n '10369.jpg',\n '1037.jpg',\n '10370.jpg',\n '10371.jpg',\n '10378.jpg',\n '10380.jpg',\n '10381.jpg',\n '10383.jpg',\n '10385.jpg',\n '10387.jpg',\n '10388.jpg',\n '1039.jpg',\n '10391.jpg',\n '10396.jpg',\n '10398.jpg',\n '1040.jpg',\n '10406.jpg',\n '10407.jpg',\n '10409.jpg',\n '1041.jpg',\n '10411.jpg',\n '10412.jpg',\n '10413.jpg',\n '10415.jpg',\n '10417.jpg',\n '10420.jpg',\n '10422.jpg',\n '10426.jpg',\n '10427.jpg',\n '10433.jpg',\n '10435.jpg',\n '10440.jpg',\n '10443.jpg',\n '10446.jpg',\n '10447.jpg',\n '10451.jpg',\n '10453.jpg',\n '10454.jpg',\n '10459.jpg',\n '10466.jpg',\n '10467.jpg',\n '1047.jpg',\n '10472.jpg',\n '10474.jpg',\n '10476.jpg',\n '10477.jpg',\n '10482.jpg',\n '10484.jpg',\n '10485.jpg',\n '10487.jpg',\n '10494.jpg',\n '10498.jpg',\n '1050.jpg',\n '10503.jpg',\n '10512.jpg',\n '10517.jpg',\n '10518.jpg',\n '10520.jpg',\n '10524.jpg',\n '10525.jpg',\n '10527.jpg',\n '1053.jpg',\n '10531.jpg',\n '10533.jpg',\n '10534.jpg',\n '10537.jpg',\n '10540.jpg',\n '10543.jpg',\n '10544.jpg',\n '10546.jpg',\n '10547.jpg',\n '1055.jpg',\n '10550.jpg',\n '10554.jpg',\n '10555.jpg',\n '10556.jpg',\n '10559.jpg',\n '10562.jpg',\n '10566.jpg',\n '10567.jpg',\n '1057.jpg',\n '10572.jpg',\n '10579.jpg',\n '1058.jpg',\n '10582.jpg',\n '10587.jpg',\n '10589.jpg',\n '1059.jpg',\n '10592.jpg',\n '10599.jpg',\n '106.jpg',\n '10600.jpg',\n '10603.jpg',\n '10604.jpg',\n '10607.jpg',\n '10614.jpg',\n '10615.jpg',\n '10616.jpg',\n '10620.jpg',\n '10627.jpg',\n '10629.jpg',\n '10631.jpg',\n '10632.jpg',\n '10642.jpg',\n '10643.jpg',\n '10644.jpg',\n '10647.jpg',\n '10654.jpg',\n '10668.jpg',\n '10669.jpg',\n '10670.jpg',\n '10671.jpg',\n '10672.jpg',\n '10679.jpg',\n '1068.jpg',\n '10687.jpg',\n '10688.jpg',\n '1069.jpg',\n '10692.jpg',\n '10693.jpg',\n '10696.jpg',\n '1070.jpg',\n '10700.jpg',\n '10701.jpg',\n '10704.jpg',\n '10705.jpg',\n '10706.jpg',\n '10709.jpg',\n '10718.jpg',\n '10720.jpg',\n '10725.jpg',\n '10726.jpg',\n '10727.jpg',\n '10731.jpg',\n '10735.jpg',\n '10737.jpg',\n '10741.jpg',\n '10746.jpg',\n '10748.jpg',\n '10754.jpg',\n '10756.jpg',\n '10757.jpg',\n '10760.jpg',\n '10765.jpg',\n '10766.jpg',\n '10769.jpg',\n '1077.jpg',\n '10770.jpg',\n '10771.jpg',\n '10772.jpg',\n '10775.jpg',\n '10781.jpg',\n '10783.jpg',\n '10784.jpg',\n '10790.jpg',\n '10794.jpg',\n '10799.jpg',\n '10800.jpg',\n '10802.jpg',\n '10807.jpg',\n '10808.jpg',\n '1081.jpg',\n '10811.jpg',\n '10812.jpg',\n '10814.jpg',\n '10818.jpg',\n '10820.jpg',\n '10822.jpg',\n '10825.jpg',\n '10828.jpg',\n '1083.jpg',\n '10830.jpg',\n '10831.jpg',\n '10834.jpg',\n '10837.jpg',\n '10839.jpg',\n '1084.jpg',\n '10840.jpg',\n '10844.jpg',\n '10847.jpg',\n '10850.jpg',\n '10852.jpg',\n '10853.jpg',\n '10854.jpg',\n '10855.jpg',\n '10858.jpg',\n '10860.jpg',\n '10867.jpg',\n '10869.jpg',\n '10876.jpg',\n '10877.jpg',\n '10879.jpg',\n '1088.jpg',\n '10882.jpg',\n '10888.jpg',\n '1089.jpg',\n '10890.jpg',\n '10892.jpg',\n '10899.jpg',\n '109.jpg',\n '10904.jpg',\n '10908.jpg',\n '10913.jpg',\n '10916.jpg',\n '1092.jpg',\n '10921.jpg',\n '10922.jpg',\n '10926.jpg',\n '10931.jpg',\n '10932.jpg',\n '10933.jpg',\n '10936.jpg',\n '10940.jpg',\n '10941.jpg',\n '10942.jpg',\n '10943.jpg',\n '10944.jpg',\n '10948.jpg',\n '1095.jpg',\n '10953.jpg',\n '10955.jpg',\n '10958.jpg',\n '10966.jpg',\n '10967.jpg',\n '10971.jpg',\n '10973.jpg',\n '10975.jpg',\n '10976.jpg',\n '10977.jpg',\n '10978.jpg',\n '10981.jpg',\n '10985.jpg',\n '10987.jpg',\n '10988.jpg',\n '10989.jpg',\n '10991.jpg',\n '10993.jpg',\n '10994.jpg',\n '10995.jpg',\n '10998.jpg',\n '11002.jpg',\n '11004.jpg',\n '11013.jpg',\n '11015.jpg',\n '11017.jpg',\n '11019.jpg',\n '11020.jpg',\n '11022.jpg',\n '1103.jpg',\n '11031.jpg',\n '11036.jpg',\n '11037.jpg',\n '1104.jpg',\n '11040.jpg',\n '11043.jpg',\n '11044.jpg',\n '11045.jpg',\n '11050.jpg',\n '11053.jpg',\n '11055.jpg',\n '11056.jpg',\n '11059.jpg',\n '1106.jpg',\n '11060.jpg',\n '11062.jpg',\n '11067.jpg',\n '11069.jpg',\n '1107.jpg',\n '11071.jpg',\n '11072.jpg',\n '11076.jpg',\n '11079.jpg',\n '11081.jpg',\n '1109.jpg',\n '11090.jpg',\n '11092.jpg',\n '11093.jpg',\n '11094.jpg',\n '11102.jpg',\n '11103.jpg',\n '11106.jpg',\n '1111.jpg',\n '11110.jpg',\n '11113.jpg',\n '11115.jpg',\n '1112.jpg',\n '11122.jpg',\n '11124.jpg',\n '11126.jpg',\n '11129.jpg',\n '11130.jpg',\n '11134.jpg',\n '11135.jpg',\n '11138.jpg',\n '11139.jpg',\n '1114.jpg',\n '11142.jpg',\n '11145.jpg',\n '11146.jpg',\n '11152.jpg',\n '11157.jpg',\n '11160.jpg',\n '11166.jpg',\n '11167.jpg',\n '1117.jpg',\n '11170.jpg',\n '11174.jpg',\n '11175.jpg',\n '11177.jpg',\n '11180.jpg',\n '11184.jpg',\n '11185.jpg',\n '1119.jpg',\n '11195.jpg',\n '11196.jpg',\n '11197.jpg',\n '11199.jpg',\n '11202.jpg',\n '11208.jpg',\n '11209.jpg',\n '11213.jpg',\n '11216.jpg',\n '11219.jpg',\n '11220.jpg',\n '11221.jpg',\n '11225.jpg',\n '11230.jpg',\n '11231.jpg',\n '11234.jpg',\n '11243.jpg',\n '11244.jpg',\n '11245.jpg',\n '11253.jpg',\n '11255.jpg',\n '11257.jpg',\n '11263.jpg',\n '11266.jpg',\n '11267.jpg',\n '11268.jpg',\n '11269.jpg',\n '1127.jpg',\n '11270.jpg',\n '11274.jpg',\n '11275.jpg',\n '11284.jpg',\n '11285.jpg',\n '11286.jpg',\n '11290.jpg',\n '11293.jpg',\n '11299.jpg',\n '11300.jpg',\n '11303.jpg',\n '11304.jpg',\n '11305.jpg',\n '11306.jpg',\n '11307.jpg',\n '11314.jpg',\n '11318.jpg',\n '11322.jpg',\n '11324.jpg',\n '11325.jpg',\n '1133.jpg',\n '11331.jpg',\n '11336.jpg',\n '11342.jpg',\n '11343.jpg',\n '11345.jpg',\n '11346.jpg',\n '11347.jpg',\n '1135.jpg',\n '11350.jpg',\n '11351.jpg',\n '11352.jpg',\n '11361.jpg',\n '11363.jpg',\n '11365.jpg',\n '11366.jpg',\n '11368.jpg',\n '11374.jpg',\n '1138.jpg',\n '11380.jpg',\n '11383.jpg',\n '11384.jpg',\n '11386.jpg',\n '11387.jpg',\n '11388.jpg',\n '11389.jpg',\n '11392.jpg',\n '11394.jpg',\n '11397.jpg',\n '11402.jpg',\n '11407.jpg',\n '11408.jpg',\n '11409.jpg',\n '11413.jpg',\n '11414.jpg',\n '11416.jpg',\n '11424.jpg',\n '11429.jpg',\n '11430.jpg',\n '11433.jpg',\n '11436.jpg',\n '11437.jpg',\n '11438.jpg',\n '11440.jpg',\n '11442.jpg',\n '11447.jpg',\n '11449.jpg',\n '11451.jpg',\n '11452.jpg',\n '11455.jpg',\n '1146.jpg',\n '11461.jpg',\n '11462.jpg',\n '11464.jpg',\n '11466.jpg',\n '11467.jpg',\n '1147.jpg',\n '11475.jpg',\n '11478.jpg',\n '11483.jpg',\n '11486.jpg',\n '11491.jpg',\n '11493.jpg',\n '11494.jpg',\n '11495.jpg',\n '115.jpg',\n '11503.jpg',\n '11505.jpg',\n '11507.jpg',\n '11509.jpg',\n '11511.jpg',\n '11512.jpg',\n '11517.jpg',\n '11519.jpg',\n '11521.jpg',\n '11525.jpg',\n '11527.jpg',\n '11529.jpg',\n '11531.jpg',\n '11535.jpg',\n '11536.jpg',\n '11537.jpg',\n '1154.jpg',\n '11541.jpg',\n '11544.jpg',\n '11546.jpg',\n '11547.jpg',\n '11549.jpg',\n '1155.jpg',\n '11550.jpg',\n '11551.jpg',\n '11555.jpg',\n '11556.jpg',\n '11558.jpg',\n '11559.jpg',\n '11562.jpg',\n '11565.jpg',\n '11567.jpg',\n '11570.jpg',\n '11572.jpg',\n '11573.jpg',\n '11581.jpg',\n '11582.jpg',\n '11584.jpg',\n '11585.jpg',\n '11587.jpg',\n '11590.jpg',\n '11598.jpg',\n '116.jpg',\n '11607.jpg',\n '11609.jpg',\n '11613.jpg',\n '11618.jpg',\n '11621.jpg',\n '11626.jpg',\n '11627.jpg',\n '11628.jpg',\n '11639.jpg',\n '11640.jpg',\n '11641.jpg',\n '11644.jpg',\n '11645.jpg',\n '11646.jpg',\n '1165.jpg',\n '11655.jpg',\n '11656.jpg',\n '11659.jpg',\n '11660.jpg',\n '11661.jpg',\n '11662.jpg',\n '11664.jpg',\n '11665.jpg',\n '11667.jpg',\n '11668.jpg',\n '1167.jpg',\n '11670.jpg',\n '11672.jpg',\n '11675.jpg',\n '11676.jpg',\n '11677.jpg',\n '11679.jpg',\n '11682.jpg',\n '11684.jpg',\n '11688.jpg',\n '1169.jpg',\n '11698.jpg',\n '117.jpg',\n '11701.jpg',\n '11702.jpg',\n '11706.jpg',\n '11707.jpg',\n '11709.jpg',\n '1171.jpg',\n '11710.jpg',\n '11716.jpg',\n '11717.jpg',\n '11718.jpg',\n '11719.jpg',\n '1172.jpg',\n '11721.jpg',\n '11726.jpg',\n '11728.jpg',\n '11729.jpg',\n '11732.jpg',\n '11733.jpg',\n '11738.jpg',\n '11742.jpg',\n '11744.jpg',\n '11745.jpg',\n '11751.jpg',\n '11753.jpg',\n '1176.jpg',\n '11761.jpg',\n '11765.jpg',\n '11766.jpg',\n '11769.jpg',\n '11772.jpg',\n '11777.jpg',\n '11786.jpg',\n '11795.jpg',\n '11797.jpg',\n '11801.jpg',\n '11802.jpg',\n '11805.jpg',\n '11808.jpg',\n '11809.jpg',\n '1181.jpg',\n '11810.jpg',\n '11814.jpg',\n '11815.jpg',\n '11817.jpg',\n '11822.jpg',\n '11824.jpg',\n '11830.jpg',\n '11831.jpg',\n '11833.jpg',\n '11834.jpg',\n '11837.jpg',\n '11839.jpg',\n '11840.jpg',\n '11842.jpg',\n '11845.jpg',\n '11846.jpg',\n '1185.jpg',\n '11851.jpg',\n '11853.jpg',\n '11854.jpg',\n '11857.jpg',\n '11858.jpg',\n '11861.jpg',\n '11865.jpg',\n '11872.jpg',\n '11876.jpg',\n '11879.jpg',\n '1188.jpg',\n '11882.jpg',\n '11883.jpg',\n '11884.jpg',\n '11886.jpg',\n '11888.jpg',\n '11892.jpg',\n '11893.jpg',\n '11894.jpg',\n '11898.jpg',\n '11899.jpg',\n '1190.jpg',\n '11902.jpg',\n '11903.jpg',\n '11905.jpg',\n '11914.jpg',\n '11915.jpg',\n '11917.jpg',\n '11919.jpg',\n '11927.jpg',\n '11928.jpg',\n '1193.jpg',\n '11930.jpg',\n '11932.jpg',\n '11933.jpg',\n '11934.jpg',\n '11935.jpg',\n '11950.jpg',\n '11951.jpg',\n '11953.jpg',\n '11955.jpg',\n '11961.jpg',\n '11962.jpg',\n '11964.jpg',\n '11965.jpg',\n '11968.jpg',\n '11969.jpg',\n '11977.jpg',\n '11978.jpg',\n '11989.jpg',\n '11991.jpg',\n '11993.jpg',\n '11994.jpg',\n '11998.jpg',\n '12004.jpg',\n '12006.jpg',\n '12011.jpg',\n '12013.jpg',\n '12015.jpg',\n '12019.jpg',\n '12022.jpg',\n '12023.jpg',\n '12024.jpg',\n '12030.jpg',\n '12031.jpg',\n '12033.jpg',\n '12034.jpg',\n '12037.jpg',\n '12039.jpg',\n '1204.jpg',\n '12044.jpg',\n '12046.jpg',\n '12047.jpg',\n '12048.jpg',\n '12057.jpg',\n '12059.jpg',\n '1206.jpg',\n '12060.jpg',\n '12069.jpg',\n '12070.jpg',\n '12072.jpg',\n '12073.jpg',\n '12077.jpg',\n '1208.jpg',\n '12082.jpg',\n '12083.jpg',\n '12085.jpg',\n '12087.jpg',\n '1209.jpg',\n '121.jpg',\n '1210.jpg',\n '12111.jpg',\n '12112.jpg',\n '12118.jpg',\n '1212.jpg',\n '12120.jpg',\n '12121.jpg',\n '12124.jpg',\n '12126.jpg',\n '1213.jpg',\n '12134.jpg',\n '12138.jpg',\n '12139.jpg',\n '12142.jpg',\n '12143.jpg',\n '12144.jpg',\n '12148.jpg',\n '12151.jpg',\n '12152.jpg',\n '12153.jpg',\n '12154.jpg',\n '12158.jpg',\n '12160.jpg',\n '12161.jpg',\n '12164.jpg',\n '12167.jpg',\n '12169.jpg',\n '12173.jpg',\n '1218.jpg',\n '12180.jpg',\n '12182.jpg',\n '12184.jpg',\n '12187.jpg',\n '12188.jpg',\n '12189.jpg',\n '12192.jpg',\n '12196.jpg',\n '12198.jpg',\n '12199.jpg',\n '1220.jpg',\n '12200.jpg',\n '12202.jpg',\n '12204.jpg',\n '12209.jpg',\n '1221.jpg',\n '12216.jpg',\n '12217.jpg',\n '12218.jpg',\n '12221.jpg',\n '12222.jpg',\n '12224.jpg',\n '12225.jpg',\n '12226.jpg',\n '12229.jpg',\n '12237.jpg',\n '12241.jpg',\n '12244.jpg',\n '12251.jpg',\n '12253.jpg',\n '12254.jpg',\n '12255.jpg',\n '1226.jpg',\n '12260.jpg',\n '12262.jpg',\n '12264.jpg',\n '12269.jpg',\n '12276.jpg',\n '12279.jpg',\n '12281.jpg',\n '12282.jpg',\n '12285.jpg',\n '12290.jpg',\n '12292.jpg',\n '12293.jpg',\n '12294.jpg',\n '12295.jpg',\n '12296.jpg',\n '1230.jpg',\n '12300.jpg',\n '12301.jpg',\n '12304.jpg',\n '12305.jpg',\n '12308.jpg',\n '12309.jpg',\n '12310.jpg',\n '12312.jpg',\n '12313.jpg',\n '12315.jpg',\n '12317.jpg',\n '12319.jpg',\n '12320.jpg',\n '12321.jpg',\n '12329.jpg',\n '12332.jpg',\n '12334.jpg',\n '12336.jpg',\n '12337.jpg',\n '12338.jpg',\n '12342.jpg',\n '12343.jpg',\n '12349.jpg',\n '1235.jpg',\n '12350.jpg',\n '12357.jpg',\n '1236.jpg',\n '12360.jpg',\n '12363.jpg',\n '12365.jpg',\n '12366.jpg',\n '12367.jpg',\n '12371.jpg',\n '12372.jpg',\n '12375.jpg',\n '12376.jpg',\n '1238.jpg',\n '12380.jpg',\n '12381.jpg',\n '12382.jpg',\n '12386.jpg',\n '12388.jpg',\n '12390.jpg',\n '12391.jpg',\n '12392.jpg',\n '12397.jpg',\n '12398.jpg',\n '12401.jpg',\n '12402.jpg',\n '12403.jpg',\n '12405.jpg',\n '12408.jpg',\n '1241.jpg',\n '12411.jpg',\n '12412.jpg',\n '12414.jpg',\n '12417.jpg',\n '12418.jpg',\n '12419.jpg',\n '12424.jpg',\n '12430.jpg',\n '12431.jpg',\n '12432.jpg',\n '12435.jpg',\n '12439.jpg',\n '1244.jpg',\n '12440.jpg',\n '12442.jpg',\n '12443.jpg',\n '12444.jpg',\n '12445.jpg',\n '12448.jpg',\n '1245.jpg',\n '12452.jpg',\n '12454.jpg',\n '12455.jpg',\n '12456.jpg',\n '12462.jpg',\n '12463.jpg',\n '12466.jpg',\n '12467.jpg',\n '12472.jpg',\n '12478.jpg',\n '12486.jpg',\n '12487.jpg',\n '12488.jpg',\n '12490.jpg',\n '12492.jpg',\n '12494.jpg',\n '12496.jpg',\n '12497.jpg',\n '12498.jpg',\n '125.jpg',\n '12500.jpg',\n '12504.jpg',\n '12505.jpg',\n '12508.jpg',\n '12509.jpg',\n '12512.jpg',\n '12517.jpg',\n ...]"
     },
     "execution_count": 11,
     "metadata": {},
     "output_type": "execute_result"
    }
   ],
   "source": [],
   "metadata": {
    "collapsed": false,
    "pycharm": {
     "name": "#%%\n"
    }
   }
  },
  {
   "cell_type": "code",
   "execution_count": 24,
   "outputs": [],
   "source": [
    "X = []\n",
    "y = []\n",
    "for t in ['outdoor','indoor']:\n",
    "    for f in os.listdir(f'C:/Users/Lenovo/Documents/train/{t}/'):\n",
    "        y.append(t)\n",
    "        X.append(get_metrics(f'C:/Users/Lenovo/Documents/train/{t}/{f}'))"
   ],
   "metadata": {
    "collapsed": false,
    "pycharm": {
     "name": "#%%\n"
    }
   }
  },
  {
   "cell_type": "code",
   "execution_count": 25,
   "outputs": [],
   "source": [
    "X = pd.DataFrame(X)\n",
    "y = pd.DataFrame(y)"
   ],
   "metadata": {
    "collapsed": false,
    "pycharm": {
     "name": "#%%\n"
    }
   }
  },
  {
   "cell_type": "code",
   "execution_count": 26,
   "outputs": [
    {
     "data": {
      "text/plain": "           r_mean      g_mean      b_mean      r_std      g_std      b_std\n0      120.204933  113.355200  111.845467  69.615602  67.475425  63.166613\n1      119.921867  145.957333  158.262000  64.016461  44.628162  40.332452\n2      142.928929  143.582321  145.185000  73.326685  65.974121  61.175384\n3       64.447733   64.736000   76.484000  61.955774  59.838468  56.268055\n4      162.511375  138.965500  125.129500  62.252194  53.351502  49.584261\n...           ...         ...         ...        ...        ...        ...\n55317  116.956667  123.829067  129.296400  60.969206  60.681234  57.488299\n55318   96.647746  103.221127  121.114648  68.483365  71.172709  65.826191\n55319   88.718136  107.363729   94.892881  73.270044  75.070868  70.590882\n55320  129.872533  139.917333  143.426667  31.530781  30.617983  29.671627\n55321   89.807067  109.464800  133.706000  52.800820  57.776514  57.015047\n\n[55322 rows x 6 columns]",
      "text/html": "<div>\n<style scoped>\n    .dataframe tbody tr th:only-of-type {\n        vertical-align: middle;\n    }\n\n    .dataframe tbody tr th {\n        vertical-align: top;\n    }\n\n    .dataframe thead th {\n        text-align: right;\n    }\n</style>\n<table border=\"1\" class=\"dataframe\">\n  <thead>\n    <tr style=\"text-align: right;\">\n      <th></th>\n      <th>r_mean</th>\n      <th>g_mean</th>\n      <th>b_mean</th>\n      <th>r_std</th>\n      <th>g_std</th>\n      <th>b_std</th>\n    </tr>\n  </thead>\n  <tbody>\n    <tr>\n      <th>0</th>\n      <td>120.204933</td>\n      <td>113.355200</td>\n      <td>111.845467</td>\n      <td>69.615602</td>\n      <td>67.475425</td>\n      <td>63.166613</td>\n    </tr>\n    <tr>\n      <th>1</th>\n      <td>119.921867</td>\n      <td>145.957333</td>\n      <td>158.262000</td>\n      <td>64.016461</td>\n      <td>44.628162</td>\n      <td>40.332452</td>\n    </tr>\n    <tr>\n      <th>2</th>\n      <td>142.928929</td>\n      <td>143.582321</td>\n      <td>145.185000</td>\n      <td>73.326685</td>\n      <td>65.974121</td>\n      <td>61.175384</td>\n    </tr>\n    <tr>\n      <th>3</th>\n      <td>64.447733</td>\n      <td>64.736000</td>\n      <td>76.484000</td>\n      <td>61.955774</td>\n      <td>59.838468</td>\n      <td>56.268055</td>\n    </tr>\n    <tr>\n      <th>4</th>\n      <td>162.511375</td>\n      <td>138.965500</td>\n      <td>125.129500</td>\n      <td>62.252194</td>\n      <td>53.351502</td>\n      <td>49.584261</td>\n    </tr>\n    <tr>\n      <th>...</th>\n      <td>...</td>\n      <td>...</td>\n      <td>...</td>\n      <td>...</td>\n      <td>...</td>\n      <td>...</td>\n    </tr>\n    <tr>\n      <th>55317</th>\n      <td>116.956667</td>\n      <td>123.829067</td>\n      <td>129.296400</td>\n      <td>60.969206</td>\n      <td>60.681234</td>\n      <td>57.488299</td>\n    </tr>\n    <tr>\n      <th>55318</th>\n      <td>96.647746</td>\n      <td>103.221127</td>\n      <td>121.114648</td>\n      <td>68.483365</td>\n      <td>71.172709</td>\n      <td>65.826191</td>\n    </tr>\n    <tr>\n      <th>55319</th>\n      <td>88.718136</td>\n      <td>107.363729</td>\n      <td>94.892881</td>\n      <td>73.270044</td>\n      <td>75.070868</td>\n      <td>70.590882</td>\n    </tr>\n    <tr>\n      <th>55320</th>\n      <td>129.872533</td>\n      <td>139.917333</td>\n      <td>143.426667</td>\n      <td>31.530781</td>\n      <td>30.617983</td>\n      <td>29.671627</td>\n    </tr>\n    <tr>\n      <th>55321</th>\n      <td>89.807067</td>\n      <td>109.464800</td>\n      <td>133.706000</td>\n      <td>52.800820</td>\n      <td>57.776514</td>\n      <td>57.015047</td>\n    </tr>\n  </tbody>\n</table>\n<p>55322 rows × 6 columns</p>\n</div>"
     },
     "execution_count": 26,
     "metadata": {},
     "output_type": "execute_result"
    }
   ],
   "source": [
    "X"
   ],
   "metadata": {
    "collapsed": false,
    "pycharm": {
     "name": "#%%\n"
    }
   }
  },
  {
   "cell_type": "code",
   "execution_count": 30,
   "outputs": [],
   "source": [
    "from sklearn.linear_model import LogisticRegression\n",
    "from sklearn.model_selection import cross_val_score,KFold"
   ],
   "metadata": {
    "collapsed": false,
    "pycharm": {
     "name": "#%%\n"
    }
   }
  },
  {
   "cell_type": "code",
   "execution_count": 34,
   "outputs": [],
   "source": [
    "y = y.replace({'outdoor':0,'indoor':1})"
   ],
   "metadata": {
    "collapsed": false,
    "pycharm": {
     "name": "#%%\n"
    }
   }
  },
  {
   "cell_type": "code",
   "execution_count": 35,
   "outputs": [
    {
     "data": {
      "text/plain": "array([[<AxesSubplot:title={'center':'0'}>]], dtype=object)"
     },
     "execution_count": 35,
     "metadata": {},
     "output_type": "execute_result"
    },
    {
     "data": {
      "text/plain": "<Figure size 432x288 with 1 Axes>",
      "image/png": "[encoded data removed]"
     },
     "metadata": {
      "needs_background": "light"
     },
     "output_type": "display_data"
    }
   ],
   "source": [
    "y.hist()"
   ],
   "metadata": {
    "collapsed": false,
    "pycharm": {
     "name": "#%%\n"
    }
   }
  },
  {
   "cell_type": "code",
   "execution_count": 28,
   "outputs": [],
   "source": [
    "model = LogisticRegression()"
   ],
   "metadata": {
    "collapsed": false,
    "pycharm": {
     "name": "#%%\n"
    }
   }
  },
  {
   "cell_type": "code",
   "execution_count": 36,
   "outputs": [
    {
     "name": "stderr",
     "output_type": "stream",
     "text": [
      "[Parallel(n_jobs=-1)]: Using backend LokyBackend with 4 concurrent workers.\n",
      "[Parallel(n_jobs=-1)]: Done   5 out of   5 | elapsed:    2.2s finished\n"
     ]
    },
    {
     "data": {
      "text/plain": "array([0.79792137, 0.80018075, 0.79681851, 0.79925886, 0.79455893])"
     },
     "execution_count": 36,
     "metadata": {},
     "output_type": "execute_result"
    }
   ],
   "source": [
    "cross_val_score(model,X,y,scoring='accuracy',n_jobs=-1,verbose=1)"
   ],
   "metadata": {
    "collapsed": false,
    "pycharm": {
     "name": "#%%\n"
    }
   }
  },
  {
   "cell_type": "code",
   "execution_count": 42,
   "outputs": [],
   "source": [
    "from scipy.stats import mode,skew,kurtosis"
   ],
   "metadata": {
    "collapsed": false,
    "pycharm": {
     "name": "#%%\n"
    }
   }
  },
  {
   "cell_type": "code",
   "execution_count": 65,
   "outputs": [
    {
     "data": {
      "text/plain": "array([[ 17,  17,  17, ...,  97, 106, 104],\n       [ 17,  17,  17, ...,  92, 103, 101],\n       [ 17,  17,  17, ...,  91,  96,  90],\n       ...,\n       [200, 192, 193, ..., 112,  89,  89],\n       [200, 192, 193, ...,  99, 117, 117],\n       [200, 192, 193, ..., 161, 165, 165]], dtype=uint8)"
     },
     "execution_count": 65,
     "metadata": {},
     "output_type": "execute_result"
    }
   ],
   "source": [
    "img[:,:,0]"
   ],
   "metadata": {
    "collapsed": false,
    "pycharm": {
     "name": "#%%\n"
    }
   }
  },
  {
   "cell_type": "code",
   "execution_count": 66,
   "outputs": [
    {
     "data": {
      "text/plain": "2.989999999999995"
     },
     "execution_count": 66,
     "metadata": {},
     "output_type": "execute_result"
    }
   ],
   "source": [
    "np.percentile(img[:,:,0],axis=None,q=1)"
   ],
   "metadata": {
    "collapsed": false,
    "pycharm": {
     "name": "#%%\n"
    }
   }
  },
  {
   "cell_type": "code",
   "execution_count": 84,
   "outputs": [],
   "source": [
    "def get_metrics_new(img):\n",
    "    image = cv2.imread(img)\n",
    "    return {'r_mean':image[:,:,0].mean(),\n",
    "     'g_mean':image[:,:,1].mean(),\n",
    "     'b_mean':image[:,:,2].mean(),\n",
    "     'r_std':image[:,:,0].std(),\n",
    "     'g_std':image[:,:,1].std(),\n",
    "     'b_std':image[:,:,2].std(),\n",
    "     'r_var':image[:,:,0].var(),\n",
    "     'g_var':image[:,:,1].var(),\n",
    "     'b_var':image[:,:,2].var(),\n",
    "     'r_mode':mode(np.asarray(image).reshape(-1,3)[0][0]),\n",
    "     'g_mode':mode(np.asarray(image).reshape(-1,3)[1][0]),\n",
    "     'b_mode':mode(np.asarray(image).reshape(-1,3)[2][0]),\n",
    "     'r_skew':skew(np.asarray(image).reshape(-1,3)[0]),\n",
    "     'g_skew':skew(np.asarray(image).reshape(-1,3)[1]),\n",
    "     'b_skew':skew(np.asarray(image).reshape(-1,3)[2]),\n",
    "     'r_kurtosis':kurtosis(np.asarray(image).reshape(-1,3)[0]),\n",
    "     'g_kurtosis':kurtosis(np.asarray(image).reshape(-1,3)[1]),\n",
    "     'b_kurtosis':kurtosis(np.asarray(image).reshape(-1,3)[2]),\n",
    "     'r_p1':np.percentile(np.asarray(image).reshape(-1,3)[0],axis=None,q=1),\n",
    "     'g_p1':np.percentile(np.asarray(image).reshape(-1,3)[1],axis=None,q=1),\n",
    "     'b_p1':np.percentile(np.asarray(image).reshape(-1,3)[2],axis=None,q=1),\n",
    "     'r_p99':np.percentile(np.asarray(image).reshape(-1,3)[0],axis=None,q=99),\n",
    "     'g_p99':np.percentile(np.asarray(image).reshape(-1,3)[1],axis=None,q=99),\n",
    "     'b_p99':np.percentile(np.asarray(image).reshape(-1,3)[2],axis=None,q=99),\n",
    "            }"
   ],
   "metadata": {
    "collapsed": false,
    "pycharm": {
     "name": "#%%\n"
    }
   }
  },
  {
   "cell_type": "code",
   "execution_count": 85,
   "outputs": [],
   "source": [
    "X_new = []\n",
    "y_new = []\n",
    "for t in ['outdoor','indoor']:\n",
    "    for f in os.listdir(f'C:/Users/Lenovo/Documents/train/{t}/'):\n",
    "        y_new.append(t)\n",
    "        X_new.append(get_metrics_new(f'C:/Users/Lenovo/Documents/train/{t}/{f}'))"
   ],
   "metadata": {
    "collapsed": false,
    "pycharm": {
     "name": "#%%\n"
    }
   }
  },
  {
   "cell_type": "code",
   "execution_count": 86,
   "outputs": [],
   "source": [
    "X_new = pd.DataFrame(X_new)\n",
    "y_new = pd.DataFrame(y_new)"
   ],
   "metadata": {
    "collapsed": false,
    "pycharm": {
     "name": "#%%\n"
    }
   }
  },
  {
   "cell_type": "code",
   "execution_count": 109,
   "outputs": [],
   "source": [
    "X_new['r_mode'] = X_new['r_mode'].apply(lambda x:int(x[0]))\n",
    "X_new['g_mode'] = X_new['g_mode'].apply(lambda x:int(x[0]))\n",
    "X_new['b_mode'] = X_new['b_mode'].apply(lambda x:int(x[0]))"
   ],
   "metadata": {
    "collapsed": false,
    "pycharm": {
     "name": "#%%\n"
    }
   }
  },
  {
   "cell_type": "code",
   "execution_count": 111,
   "outputs": [
    {
     "name": "stderr",
     "output_type": "stream",
     "text": [
      "[Parallel(n_jobs=-1)]: Using backend LokyBackend with 4 concurrent workers.\n",
      "[Parallel(n_jobs=-1)]: Done   5 out of   5 | elapsed:    1.4s finished\n"
     ]
    },
    {
     "data": {
      "text/plain": "0.8190413464249738"
     },
     "execution_count": 111,
     "metadata": {},
     "output_type": "execute_result"
    }
   ],
   "source": [
    "cross_val_score(model,X_new,y_new,n_jobs=-1,verbose=1,cv=KFold(shuffle=True,random_state=23)).mean()"
   ],
   "metadata": {
    "collapsed": false,
    "pycharm": {
     "name": "#%%\n"
    }
   }
  }
 ],
 "metadata": {
  "kernelspec": {
   "display_name": "Python 3",
   "language": "python",
   "name": "python3"
  },
  "language_info": {
   "codemirror_mode": {
    "name": "ipython",
    "version": 2
   },
   "file_extension": ".py",
   "mimetype": "text/x-python",
   "name": "python",
   "nbconvert_exporter": "python",
   "pygments_lexer": "ipython2",
   "version": "2.7.6"
  }
 },
 "nbformat": 4,
 "nbformat_minor": 0
}
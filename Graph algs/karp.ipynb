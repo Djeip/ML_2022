{
 "cells": [
  {
   "cell_type": "code",
   "execution_count": 1,
   "metadata": {
    "collapsed": true
   },
   "outputs": [],
   "source": [
    "import numpy as np"
   ]
  },
  {
   "cell_type": "code",
   "execution_count": 2,
   "outputs": [],
   "source": [
    "graph = np.array([[0, 15, 10, 0, 0, 0, 0, 0, 0],\n",
    "[0, 0, 5, 8, 7, 0, 0, 0, 0],\n",
    "[0, 5, 0, 0, 0, 9, 10, 0, 0],\n",
    "[0, 0, 0, 0, 4, 0, 0, 0, 5],\n",
    "[0, 0, 0, 0, 0, 0, 0, 0, 7],\n",
    "[0, 0, 0, 0, 0, 0, 0, 0, 5],\n",
    "[0, 0, 0, 0, 0, 3, 0, 10, 0],\n",
    "[0, 0, 0, 0, 0, 0, 0, 0, 10],\n",
    "[0, 0, 0, 0, 0, 0, 0, 0, 0]\n",
    "])"
   ],
   "metadata": {
    "collapsed": false,
    "pycharm": {
     "name": "#%%\n"
    }
   }
  },
  {
   "cell_type": "code",
   "execution_count": 3,
   "outputs": [
    {
     "data": {
      "text/plain": "array([[ 0, 15, 10,  0,  0,  0,  0,  0,  0],\n       [ 0,  0,  5,  8,  7,  0,  0,  0,  0],\n       [ 0,  5,  0,  0,  0,  9, 10,  0,  0],\n       [ 0,  0,  0,  0,  4,  0,  0,  0,  5],\n       [ 0,  0,  0,  0,  0,  0,  0,  0,  7],\n       [ 0,  0,  0,  0,  0,  0,  0,  0,  5],\n       [ 0,  0,  0,  0,  0,  3,  0, 10,  0],\n       [ 0,  0,  0,  0,  0,  0,  0,  0, 10],\n       [ 0,  0,  0,  0,  0,  0,  0,  0,  0]])"
     },
     "execution_count": 3,
     "metadata": {},
     "output_type": "execute_result"
    }
   ],
   "source": [
    "graph"
   ],
   "metadata": {
    "collapsed": false,
    "pycharm": {
     "name": "#%%\n"
    }
   }
  },
  {
   "cell_type": "code",
   "execution_count": null,
   "outputs": [],
   "source": [
    "def EdmondsKarp(G, s, t):\n",
    "    gl = np.zeros(G.shape)\n",
    "    while существует кратчайший путь p из s в t в остаточной сети Gf\n",
    "        cf(p)←min{cf(u,v):(u,v)∈p}\n",
    "        for  (u,v)∈p\n",
    "            f[u,v]←f[u,v]+cf(p)\n",
    "            f[v,u]←−f[u,v]"
   ],
   "metadata": {
    "collapsed": false,
    "pycharm": {
     "name": "#%%\n"
    }
   }
  }
 ],
 "metadata": {
  "kernelspec": {
   "display_name": "Python 3",
   "language": "python",
   "name": "python3"
  },
  "language_info": {
   "codemirror_mode": {
    "name": "ipython",
    "version": 2
   },
   "file_extension": ".py",
   "mimetype": "text/x-python",
   "name": "python",
   "nbconvert_exporter": "python",
   "pygments_lexer": "ipython2",
   "version": "2.7.6"
  }
 },
 "nbformat": 4,
 "nbformat_minor": 0
}
{
 "cells": [
  {
   "cell_type": "code",
   "execution_count": 2,
   "metadata": {
    "collapsed": true
   },
   "outputs": [],
   "source": [
    "import numpy as np\n",
    "import copy"
   ]
  },
  {
   "cell_type": "code",
   "execution_count": 2,
   "outputs": [],
   "source": [],
   "metadata": {
    "collapsed": false,
    "pycharm": {
     "name": "#%%\n"
    }
   }
  },
  {
   "cell_type": "code",
   "execution_count": 3,
   "outputs": [],
   "source": [
    "n = 100\n",
    "k = 6\n",
    "S = np.random.randint(1, 100, n)"
   ],
   "metadata": {
    "collapsed": false,
    "pycharm": {
     "name": "#%%\n"
    }
   }
  },
  {
   "cell_type": "code",
   "execution_count": 3,
   "outputs": [],
   "source": [],
   "metadata": {
    "collapsed": false,
    "pycharm": {
     "name": "#%%\n"
    }
   }
  },
  {
   "cell_type": "code",
   "execution_count": 4,
   "outputs": [],
   "source": [
    "def cur_of(ms, mat):\n",
    "    _ideal = np.sum(ms) / mat.shape[1]\n",
    "    return np.sum((ms @ mat - _ideal)**2)"
   ],
   "metadata": {
    "collapsed": false,
    "pycharm": {
     "name": "#%%\n"
    }
   }
  },
  {
   "cell_type": "code",
   "execution_count": 5,
   "outputs": [],
   "source": [
    "def cur_of_from_sums(ms, sums):\n",
    "    _ideal = np.sum(ms) / len(sums)\n",
    "    return np.sum((sums - _ideal)**2)"
   ],
   "metadata": {
    "collapsed": false,
    "pycharm": {
     "name": "#%%\n"
    }
   }
  },
  {
   "cell_type": "code",
   "execution_count": 6,
   "outputs": [],
   "source": [
    "def sol_list_to_matrix(sol_list, k):\n",
    "    if len(np.shape(sol_list)) > 1 and np.shape(sol_list)[1] > 1:\n",
    "        return sol_list\n",
    "    else:\n",
    "        cur_sol1 = np.zeros((sol_list.shape[0], k))\n",
    "        for pos1, pos2 in enumerate(sol_list):\n",
    "            cur_sol1[pos1, pos2] = 1.\n",
    "        return cur_sol1"
   ],
   "metadata": {
    "collapsed": false,
    "pycharm": {
     "name": "#%%\n"
    }
   }
  },
  {
   "cell_type": "code",
   "execution_count": 7,
   "outputs": [],
   "source": [
    "def change_sol_to_other_random(cur_sol, n=None, k=None, max_depth=1):\n",
    "    _cur_sol = copy.deepcopy(cur_sol)\n",
    "    _rs = np.random.RandomState()\n",
    "    if max_depth == 1:\n",
    "        depth = 1\n",
    "    else:\n",
    "        depth = _rs.randint(1, max_depth)\n",
    "    for d in range(depth):\n",
    "        i = _rs.randint(n)\n",
    "        pos1 = np.argmax(_cur_sol[i])\n",
    "        pos2 = _rs.randint(k)\n",
    "        while pos2 == pos1:\n",
    "            pos2 = _rs.randint(k)\n",
    "        _cur_sol[i, pos1] = 0.\n",
    "        _cur_sol[i, pos2] = 1.\n",
    "    return _cur_sol"
   ],
   "metadata": {
    "collapsed": false,
    "pycharm": {
     "name": "#%%\n"
    }
   }
  },
  {
   "cell_type": "code",
   "execution_count": 8,
   "outputs": [],
   "source": [
    "def generate_mnp_change(cur_sol, n=None, k=None, min_depth=1, max_depth=1):\n",
    "    _rs = np.random.RandomState()\n",
    "    depth = _rs.randint(min_depth, max_depth+1)\n",
    "    change = []\n",
    "    for d in range(depth):\n",
    "        i = _rs.randint(n)\n",
    "        pos1 = cur_sol[i].argmax()\n",
    "        pos2 = _rs.randint(k)\n",
    "        while pos2 == pos1:\n",
    "            pos2 = _rs.randint(k)\n",
    "        change.append([i, pos1, pos2])\n",
    "    return change"
   ],
   "metadata": {
    "collapsed": false,
    "pycharm": {
     "name": "#%%\n"
    }
   }
  },
  {
   "cell_type": "code",
   "execution_count": 9,
   "outputs": [],
   "source": [
    "def make_mnp_change(cur_sol, change):\n",
    "    _cur_sol = cur_sol\n",
    "    for ch_part in change:\n",
    "        _cur_sol[ch_part[0], ch_part[1]] = 0.\n",
    "        _cur_sol[ch_part[0], ch_part[2]] = 1.\n",
    "    return _cur_sol"
   ],
   "metadata": {
    "collapsed": false,
    "pycharm": {
     "name": "#%%\n"
    }
   }
  },
  {
   "cell_type": "code",
   "execution_count": 10,
   "outputs": [],
   "source": [
    "def generate_good_start_sol(ms, k, of_limit, start_i=0, max_iters=1000):\n",
    "    i = start_i\n",
    "    while i <= max_iters:\n",
    "        rs = np.random.RandomState(i)\n",
    "        cur_sol = rs.randint(0, k, ms.shape[0])\n",
    "        cur_sol = sol_list_to_matrix(cur_sol, k)\n",
    "        cur_o_f = cur_of(ms, cur_sol)\n",
    "        if cur_o_f < of_limit:\n",
    "            return [i, cur_sol, cur_o_f]\n",
    "        else:\n",
    "            i += 1\n",
    "    return None"
   ],
   "metadata": {
    "collapsed": false,
    "pycharm": {
     "name": "#%%\n"
    }
   }
  },
  {
   "cell_type": "code",
   "execution_count": 11,
   "outputs": [],
   "source": [
    "def hill_climbing(ms, k, max_iters=100, min_depth=1, max_depth=1):\n",
    "    _rs = np.random.RandomState()\n",
    "    n = len(ms)\n",
    "    cur_sol = _rs.randint(0, k, ms.shape[0])\n",
    "\n",
    "    cur_sol = sol_list_to_matrix(cur_sol, k)\n",
    "\n",
    "    subs_sums = ms @ cur_sol\n",
    "    cur_o_f = cur_of_from_sums(ms, subs_sums)\n",
    "    iters = 0\n",
    "    while iters < max_iters:\n",
    "        iters += 1\n",
    "        change = generate_mnp_change(cur_sol, n=n, k=k, min_depth=min_depth, max_depth=max_depth)\n",
    "        new_sums = ms @ cur_sol\n",
    "        for ch_part in change:\n",
    "            new_sums[ch_part[1]] -= ms[ch_part[0]]\n",
    "            new_sums[ch_part[2]] += ms[ch_part[0]]\n",
    "        new_o_f = cur_of_from_sums(ms, new_sums)\n",
    "        if new_o_f < cur_o_f:\n",
    "            make_mnp_change(cur_sol, change)\n",
    "            cur_o_f = new_o_f\n",
    "        if new_o_f == 0:\n",
    "            break\n",
    "    return cur_sol"
   ],
   "metadata": {
    "collapsed": false,
    "pycharm": {
     "name": "#%%\n"
    }
   }
  },
  {
   "cell_type": "code",
   "execution_count": 16,
   "outputs": [],
   "source": [
    "h = hill_climbing(S,k)"
   ],
   "metadata": {
    "collapsed": false,
    "pycharm": {
     "name": "#%%\n"
    }
   }
  },
  {
   "cell_type": "code",
   "execution_count": 17,
   "outputs": [
    {
     "data": {
      "text/plain": "array([850., 834., 830., 864., 848., 853.])"
     },
     "execution_count": 17,
     "metadata": {},
     "output_type": "execute_result"
    }
   ],
   "source": [
    "S@h"
   ],
   "metadata": {
    "collapsed": false,
    "pycharm": {
     "name": "#%%\n"
    }
   }
  },
  {
   "cell_type": "code",
   "execution_count": null,
   "outputs": [],
   "source": [],
   "metadata": {
    "collapsed": false,
    "pycharm": {
     "name": "#%%\n"
    }
   }
  }
 ],
 "metadata": {
  "kernelspec": {
   "display_name": "Python 3",
   "language": "python",
   "name": "python3"
  },
  "language_info": {
   "codemirror_mode": {
    "name": "ipython",
    "version": 2
   },
   "file_extension": ".py",
   "mimetype": "text/x-python",
   "name": "python",
   "nbconvert_exporter": "python",
   "pygments_lexer": "ipython2",
   "version": "2.7.6"
  }
 },
 "nbformat": 4,
 "nbformat_minor": 0
}
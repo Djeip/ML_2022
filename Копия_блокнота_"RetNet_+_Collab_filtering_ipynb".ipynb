{
  "nbformat": 4,
  "nbformat_minor": 0,
  "metadata": {
    "colab": {
      "provenance": []
    },
    "kernelspec": {
      "name": "python3",
      "display_name": "Python 3"
    },
    "language_info": {
      "name": "python"
    }
  },
  "cells": [
    {
      "cell_type": "code",
      "execution_count": null,
      "metadata": {
        "id": "i6P0xu8KNHMK"
      },
      "outputs": [],
      "source": [
        "!git clone https://github.com/syncdoth/RetNet.git"
      ]
    },
    {
      "cell_type": "code",
      "source": [
        "from google.colab import drive\n",
        "drive.mount('/content/drive')"
      ],
      "metadata": {
        "id": "bveHtAzcssXJ"
      },
      "execution_count": null,
      "outputs": []
    },
    {
      "cell_type": "code",
      "source": [
        "!pip install transformers==4.38.2"
      ],
      "metadata": {
        "id": "wHHMqum2NV91"
      },
      "execution_count": null,
      "outputs": []
    },
    {
      "cell_type": "code",
      "source": [
        "!pip install timm"
      ],
      "metadata": {
        "id": "qSZpGpc9NaTG"
      },
      "execution_count": null,
      "outputs": []
    },
    {
      "cell_type": "code",
      "source": [
        "import numpy as np\n",
        "\n",
        "import torch\n",
        "import torch.nn as nn\n",
        "import torch.optim as optim\n",
        "from torch.utils.data import DataLoader, TensorDataset\n",
        "from sklearn.model_selection import train_test_split\n",
        "from RetNet.retnet.modeling_retnet import RetNetModel\n",
        "from RetNet.retnet.configuration_retnet import RetNetConfig"
      ],
      "metadata": {
        "id": "cM0BHYbeNz9Q"
      },
      "execution_count": null,
      "outputs": []
    },
    {
      "cell_type": "code",
      "source": [
        "num_users = 100\n",
        "num_items = 100\n",
        "interaction_matrix = np.random.rand(num_users, num_items)"
      ],
      "metadata": {
        "id": "Qp6CdPjsNjqP"
      },
      "execution_count": null,
      "outputs": []
    },
    {
      "cell_type": "code",
      "source": [
        "# Преобразование данных в формат torch.Tensor\n",
        "interaction_tensor = torch.FloatTensor(interaction_matrix)\n",
        "\n",
        "# Разделение данных на обучающий и тестовый наборы\n",
        "train_data, test_data = train_test_split(interaction_tensor, test_size=0.2, random_state=42)\n",
        "\n",
        "# Создание DataLoader для обучающего и тестового наборов\n",
        "train_loader = DataLoader(train_data, batch_size=32, shuffle=True)\n",
        "test_loader = DataLoader(test_data, batch_size=32)"
      ],
      "metadata": {
        "id": "N8buW84pN-IU"
      },
      "execution_count": null,
      "outputs": []
    },
    {
      "cell_type": "code",
      "source": [
        "class CollaborativeFilteringRetNet(nn.Module):\n",
        "    def __init__(self, num_users, num_items, retnet_model, hidden_size):\n",
        "        super(CollaborativeFilteringRetNet, self).__init__()\n",
        "        self.num_users = num_users\n",
        "        self.num_items = num_items\n",
        "        self.retnet_model = retnet_model\n",
        "        self.linear = nn.Linear(hidden_size, 1)  # Добавляем линейный слой\n",
        "\n",
        "    def forward(self, user_idx, item_idx):\n",
        "        # Объединяем user_idx и item_idx\n",
        "        input_ids = torch.stack((user_idx, item_idx + self.num_users), dim=1)\n",
        "\n",
        "        # Передача input_ids в модель RetNetModel\n",
        "        outputs = self.retnet_model(input_ids=input_ids)\n",
        "\n",
        "        # Получение последнего скрытого состояния из RetNetModel\n",
        "        last_hidden_state = outputs.last_hidden_state[:, -1, :]  # Берем последний токен\n",
        "\n",
        "        # Применение линейного слоя\n",
        "        linear_output = self.linear(last_hidden_state)\n",
        "\n",
        "        return linear_output.squeeze()  # Возвращаем выход линейного слоя"
      ],
      "metadata": {
        "id": "SWy6ksfROBnW"
      },
      "execution_count": null,
      "outputs": []
    },
    {
      "cell_type": "code",
      "source": [
        "# Инициализация RetNet\n",
        "config = RetNetConfig(decoder_layers=8,\n",
        "                      decoder_embed_dim=512,\n",
        "                      decoder_value_embed_dim=1024,\n",
        "                      decoder_retention_heads=4,\n",
        "                      decoder_ffn_embed_dim=1024)\n",
        "retnet_model = RetNetModel(config)\n",
        "\n",
        "# Инициализация модели CollaborativeFilteringRetNet\n",
        "model = CollaborativeFilteringRetNet(num_users, num_items, retnet_model, hidden_size=config.decoder_embed_dim)\n",
        "\n",
        "# Определение функции потерь и оптимизатора\n",
        "criterion = nn.MSELoss()  # Используем Mean Squared Error в качестве функции потерь\n",
        "optimizer = optim.Adam(model.parameters(), lr=0.001)"
      ],
      "metadata": {
        "id": "hH0xJH1KOGHV"
      },
      "execution_count": null,
      "outputs": []
    },
    {
      "cell_type": "code",
      "source": [
        "# Обучение модели\n",
        "num_epochs = 10\n",
        "for epoch in range(num_epochs):\n",
        "    model.train()\n",
        "    running_loss = 0.0\n",
        "    for batch in train_loader:\n",
        "        optimizer.zero_grad()\n",
        "        user_idx, item_idx = batch.nonzero().t()  # Получаем индексы ненулевых элементов\n",
        "        predictions = model(user_idx, item_idx)\n",
        "        target = batch[user_idx, item_idx].float()  # Преобразуем в float для совместимости с MSELoss\n",
        "        loss = criterion(predictions, target)\n",
        "        loss.backward()\n",
        "        optimizer.step()\n",
        "        running_loss += loss.item()\n",
        "    print(f\"Epoch {epoch+1}/{num_epochs}, Loss: {running_loss/len(train_loader)}\")"
      ],
      "metadata": {
        "colab": {
          "base_uri": "https://localhost:8080/"
        },
        "id": "SqHK6-y0OKKy",
        "outputId": "c28a7efc-6b0c-4211-de93-e010e2dec968"
      },
      "execution_count": null,
      "outputs": [
        {
          "output_type": "stream",
          "name": "stdout",
          "text": [
            "Epoch 1/10, Loss: 4.055309732755025\n",
            "Epoch 2/10, Loss: 0.44617387652397156\n",
            "Epoch 3/10, Loss: 0.2547316253185272\n",
            "Epoch 4/10, Loss: 0.1845973332722982\n",
            "Epoch 5/10, Loss: 0.14536276956399283\n",
            "Epoch 6/10, Loss: 0.11803701519966125\n",
            "Epoch 7/10, Loss: 0.11357021580139796\n",
            "Epoch 8/10, Loss: 0.10378706455230713\n",
            "Epoch 9/10, Loss: 0.09797770033280055\n",
            "Epoch 10/10, Loss: 0.09414791315793991\n"
          ]
        }
      ]
    },
    {
      "cell_type": "code",
      "source": [
        "# Оценка производительности модели на тестовом наборе данных\n",
        "model.eval()\n",
        "test_loss = 0.0\n",
        "with torch.no_grad():\n",
        "    for batch in test_loader:\n",
        "        user_idx, item_idx = batch.nonzero().t()\n",
        "        predictions = model(user_idx, item_idx)\n",
        "        target = batch[user_idx, item_idx].float()\n",
        "        loss = criterion(predictions, target)\n",
        "        test_loss += loss.item()\n",
        "print(f\"Test Loss: {test_loss/len(test_loader)}\")"
      ],
      "metadata": {
        "id": "M5phD2PXOPrV"
      },
      "execution_count": null,
      "outputs": []
    }
  ]
}